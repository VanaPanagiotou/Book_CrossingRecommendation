{
 "cells": [
  {
   "cell_type": "markdown",
   "metadata": {},
   "source": [
    "# Book-Crossing Recommendation System"
   ]
  },
  {
   "cell_type": "code",
   "execution_count": 1,
   "metadata": {},
   "outputs": [],
   "source": [
    "import pandas as pd\n",
    "import numpy as np\n",
    "import matplotlib.pyplot as plt\n",
    "\n",
    "# Set the seed to ensure reproduceability\n",
    "np.random.seed(1)"
   ]
  },
  {
   "cell_type": "markdown",
   "metadata": {},
   "source": [
    "### Import the data"
   ]
  },
  {
   "cell_type": "markdown",
   "metadata": {},
   "source": [
    "The dataset is comprised of three separate tables: BX-Books, BX-Users and BX-Book-Ratings."
   ]
  },
  {
   "cell_type": "code",
   "execution_count": 2,
   "metadata": {},
   "outputs": [],
   "source": [
    "# Pay attention at &amp;, containing the ; and strings containing the quote character.\n",
    "Books = pd.read_csv('BX-Books.csv', sep=';', escapechar='\\\\', encoding='latin-1', low_memory=False) #271379 books\n",
    "Books.columns = ['ISBN', 'BookTitle', 'BookAuthor', 'YearofPublication', 'Publisher', 'ImageUrlS', 'ImageUrlM', 'ImageUrlL']\n",
    "Users = pd.read_csv('BX-Users.csv', sep=';', escapechar='\\\\', error_bad_lines=False, encoding=\"latin-1\") #278858 users\n",
    "Users.columns = ['UserID', 'Location', 'Age']\n",
    "Ratings = pd.read_csv('BX-Book-Ratings.csv', sep=';', escapechar='\\\\', error_bad_lines=False, encoding=\"latin-1\") # 1149780 ratings\n",
    "Ratings.columns = ['UserID', 'ISBN', 'BookRating']\n"
   ]
  },
  {
   "cell_type": "markdown",
   "metadata": {},
   "source": [
    "####  Users Dataset"
   ]
  },
  {
   "cell_type": "markdown",
   "metadata": {},
   "source": [
    "This dataset provides the user demographic information.  \n",
    "It includes 278858 records and 3 fields: userID, Location and Age.  \n",
    "We will explore Users dataset, firstly by checking its shape, first few columns and data types."
   ]
  },
  {
   "cell_type": "code",
   "execution_count": 3,
   "metadata": {},
   "outputs": [
    {
     "name": "stdout",
     "output_type": "stream",
     "text": [
      "(278858, 3)\n",
      "['UserID', 'Location', 'Age']\n"
     ]
    },
    {
     "data": {
      "text/html": [
       "<div>\n",
       "<style scoped>\n",
       "    .dataframe tbody tr th:only-of-type {\n",
       "        vertical-align: middle;\n",
       "    }\n",
       "\n",
       "    .dataframe tbody tr th {\n",
       "        vertical-align: top;\n",
       "    }\n",
       "\n",
       "    .dataframe thead th {\n",
       "        text-align: right;\n",
       "    }\n",
       "</style>\n",
       "<table border=\"1\" class=\"dataframe\">\n",
       "  <thead>\n",
       "    <tr style=\"text-align: right;\">\n",
       "      <th></th>\n",
       "      <th>UserID</th>\n",
       "      <th>Location</th>\n",
       "      <th>Age</th>\n",
       "    </tr>\n",
       "  </thead>\n",
       "  <tbody>\n",
       "    <tr>\n",
       "      <th>0</th>\n",
       "      <td>1</td>\n",
       "      <td>nyc, new york, usa</td>\n",
       "      <td>NaN</td>\n",
       "    </tr>\n",
       "    <tr>\n",
       "      <th>1</th>\n",
       "      <td>2</td>\n",
       "      <td>stockton, california, usa</td>\n",
       "      <td>18.0</td>\n",
       "    </tr>\n",
       "    <tr>\n",
       "      <th>2</th>\n",
       "      <td>3</td>\n",
       "      <td>moscow, yukon territory, russia</td>\n",
       "      <td>NaN</td>\n",
       "    </tr>\n",
       "    <tr>\n",
       "      <th>3</th>\n",
       "      <td>4</td>\n",
       "      <td>porto, v.n.gaia, portugal</td>\n",
       "      <td>17.0</td>\n",
       "    </tr>\n",
       "    <tr>\n",
       "      <th>4</th>\n",
       "      <td>5</td>\n",
       "      <td>farnborough, hants, united kingdom</td>\n",
       "      <td>NaN</td>\n",
       "    </tr>\n",
       "  </tbody>\n",
       "</table>\n",
       "</div>"
      ],
      "text/plain": [
       "   UserID                            Location   Age\n",
       "0       1                  nyc, new york, usa   NaN\n",
       "1       2           stockton, california, usa  18.0\n",
       "2       3     moscow, yukon territory, russia   NaN\n",
       "3       4           porto, v.n.gaia, portugal  17.0\n",
       "4       5  farnborough, hants, united kingdom   NaN"
      ]
     },
     "execution_count": 3,
     "metadata": {},
     "output_type": "execute_result"
    }
   ],
   "source": [
    "print(Users.shape)\n",
    "print(list(Users.columns))\n",
    "Users.head()"
   ]
  },
  {
   "cell_type": "code",
   "execution_count": 4,
   "metadata": {},
   "outputs": [
    {
     "data": {
      "text/plain": [
       "UserID        int64\n",
       "Location     object\n",
       "Age         float64\n",
       "dtype: object"
      ]
     },
     "execution_count": 4,
     "metadata": {},
     "output_type": "execute_result"
    }
   ],
   "source": [
    "# Check the Data Types\n",
    "Users.dtypes"
   ]
  },
  {
   "cell_type": "markdown",
   "metadata": {},
   "source": [
    "The UserID field is integer, Location is string and the Age field is float.  \n",
    "Let's take a look at the values of each field."
   ]
  },
  {
   "cell_type": "code",
   "execution_count": 5,
   "metadata": {},
   "outputs": [
    {
     "name": "stdout",
     "output_type": "stream",
     "text": [
      "Total UserID entries: 278858 | Unique UserID entries: 278858\n"
     ]
    }
   ],
   "source": [
    "# UserID\n",
    "Unique_Users = Users.UserID.nunique()\n",
    "All_Users = Users.UserID.count()\n",
    "print(f'Total UserID entries: {All_Users} | Unique UserID entries: {Unique_Users}')"
   ]
  },
  {
   "cell_type": "code",
   "execution_count": 6,
   "metadata": {},
   "outputs": [],
   "source": [
    "# Location\n",
    "\n",
    "# As we saw earlier, Location is a combination of City, State and Country.\n",
    "# We can split the Location string into City, State, Country.\n",
    "\n",
    "Users_Location_Splitted = Users.Location.str.split(',', 2, expand=True)\n",
    "Users_Location_Splitted.columns = ['City', 'State', 'Country']"
   ]
  },
  {
   "cell_type": "markdown",
   "metadata": {},
   "source": [
    "Before going further, we need to clean up the Location data by replacing some ASCII characters with appropriate characters, replace some strings etc."
   ]
  },
  {
   "cell_type": "code",
   "execution_count": 7,
   "metadata": {},
   "outputs": [],
   "source": [
    "import unicodedata\n",
    "import string\n",
    "\n",
    "# Function that replaces some ASCII characters\n",
    "def strip_accents(text):\n",
    "\n",
    "    try:\n",
    "        text = unicode(text, 'utf-8')\n",
    "    except NameError:\n",
    "        pass\n",
    "\n",
    "    # We have to handle manually some cases: \n",
    "    if isinstance(text, str):\n",
    "        text = (text.replace(\"ß\", \"ss\").replace(\"ð\", \"d\").replace(\"ø\", \"oe\").replace(\"Ø\", \"OE\").replace(\"þ\", \"th\").replace(\"Þ\", \"TH\").replace(\"æ\", \"ae\").replace(\"Æ\", \"AE\").replace(\"å\", \"aa\").lower())\n",
    "    \n",
    "        text = unicodedata.normalize('NFD', text)\\\n",
    "           .encode('ascii', 'ignore')\\\n",
    "           .decode(\"utf-8\")\n",
    "    else:\n",
    "        text       \n",
    "\n",
    "    return str(text)\n",
    "\n",
    "\n",
    "\n",
    "Users_Location_Splitted = Users_Location_Splitted.applymap(lambda x: strip_accents(x))\n",
    "\n",
    "# Trim leading and/or trailing white spaces\n",
    "Users_Location_Splitted = Users_Location_Splitted.applymap(lambda x: x.strip() if isinstance(x, str) else x)\n",
    "\n",
    "# Replace n/a strings with nan\n",
    "Users_Location_Splitted = Users_Location_Splitted.replace({'n/a': np.nan}, regex=True)\n",
    "Users_Location_Splitted = Users_Location_Splitted.replace({'\"n/a\"': np.nan}, regex=True)\n",
    "\n",
    "# Remove numbers from all Location strings\n",
    "Users_Location_Splitted = Users_Location_Splitted.replace({'\\d+', ''}, regex=True)\n",
    "\n",
    "# Remove some special characters from all Location strings\n",
    "Users_Location_Splitted = Users_Location_Splitted.replace(r'[`?#*]', '', regex=True)  \n",
    "   \n",
    "# Remove multiple blanks from all Location strings\n",
    "Users_Location_Splitted = Users_Location_Splitted.replace({'\\s+', ''}, regex=True)                                                          \n",
    "\n",
    "# Trim leading and/or trailing white spaces\n",
    "Users_Location_Splitted = Users_Location_Splitted.applymap(lambda x: x.strip() if isinstance(x, str) else x)\n",
    "\n",
    "# Capitalize First Letter\n",
    "Users_Location_Splitted = Users_Location_Splitted.applymap(lambda x: string.capwords(x) if isinstance(x, str) else x)\n",
    "\n",
    "Users = Users.join(Users_Location_Splitted)\n",
    "Users.drop(columns=['Location'], inplace=True)"
   ]
  },
  {
   "cell_type": "code",
   "execution_count": 8,
   "metadata": {},
   "outputs": [
    {
     "data": {
      "text/html": [
       "<div>\n",
       "<style scoped>\n",
       "    .dataframe tbody tr th:only-of-type {\n",
       "        vertical-align: middle;\n",
       "    }\n",
       "\n",
       "    .dataframe tbody tr th {\n",
       "        vertical-align: top;\n",
       "    }\n",
       "\n",
       "    .dataframe thead th {\n",
       "        text-align: right;\n",
       "    }\n",
       "</style>\n",
       "<table border=\"1\" class=\"dataframe\">\n",
       "  <thead>\n",
       "    <tr style=\"text-align: right;\">\n",
       "      <th></th>\n",
       "      <th>City</th>\n",
       "      <th>State</th>\n",
       "      <th>Country</th>\n",
       "    </tr>\n",
       "  </thead>\n",
       "  <tbody>\n",
       "    <tr>\n",
       "      <th>0</th>\n",
       "      <td>Nyc</td>\n",
       "      <td>New York</td>\n",
       "      <td>Usa</td>\n",
       "    </tr>\n",
       "    <tr>\n",
       "      <th>1</th>\n",
       "      <td>Stockton</td>\n",
       "      <td>California</td>\n",
       "      <td>Usa</td>\n",
       "    </tr>\n",
       "    <tr>\n",
       "      <th>2</th>\n",
       "      <td>Moscow</td>\n",
       "      <td>Yukon Territory</td>\n",
       "      <td>Russia</td>\n",
       "    </tr>\n",
       "    <tr>\n",
       "      <th>3</th>\n",
       "      <td>Porto</td>\n",
       "      <td>V.n.gaia</td>\n",
       "      <td>Portugal</td>\n",
       "    </tr>\n",
       "    <tr>\n",
       "      <th>4</th>\n",
       "      <td>Farnborough</td>\n",
       "      <td>Hants</td>\n",
       "      <td>United Kingdom</td>\n",
       "    </tr>\n",
       "  </tbody>\n",
       "</table>\n",
       "</div>"
      ],
      "text/plain": [
       "          City            State         Country\n",
       "0          Nyc         New York             Usa\n",
       "1     Stockton       California             Usa\n",
       "2       Moscow  Yukon Territory          Russia\n",
       "3        Porto         V.n.gaia        Portugal\n",
       "4  Farnborough            Hants  United Kingdom"
      ]
     },
     "execution_count": 8,
     "metadata": {},
     "output_type": "execute_result"
    }
   ],
   "source": [
    "Users_Location_Splitted.head()"
   ]
  },
  {
   "cell_type": "markdown",
   "metadata": {},
   "source": [
    "Now we can explore each of the new Location fields separately."
   ]
  },
  {
   "cell_type": "code",
   "execution_count": 9,
   "metadata": {},
   "outputs": [
    {
     "name": "stdout",
     "output_type": "stream",
     "text": [
      "City: 142 empty entries | 446 NaN entries\n"
     ]
    }
   ],
   "source": [
    "# City\n",
    "Empty_City = Users[Users.City == ''].City.count()\n",
    "Nan_City = Users.City.isnull().sum()\n",
    "print(f'City: {Empty_City} empty entries | {Nan_City} NaN entries')"
   ]
  },
  {
   "cell_type": "code",
   "execution_count": 10,
   "metadata": {},
   "outputs": [],
   "source": [
    "# We should change these empty strings to NaNs.\n",
    "Users.City.replace('', np.nan, inplace=True)"
   ]
  },
  {
   "cell_type": "code",
   "execution_count": 11,
   "metadata": {},
   "outputs": [
    {
     "name": "stdout",
     "output_type": "stream",
     "text": [
      "The 15 cities with the most users are:\n",
      "London       4105\n",
      "Barcelona    2664\n",
      "Toronto      2342\n",
      "Madrid       1933\n",
      "Sydney       1884\n",
      "Portland     1869\n",
      "Melbourne    1863\n",
      "Vancouver    1699\n",
      "Chicago      1566\n",
      "Seattle      1541\n",
      "New York     1448\n",
      "Milano       1390\n",
      "San Diego    1332\n",
      "Berlin       1306\n",
      "Ottawa       1303\n",
      "Name: City, dtype: int64\n"
     ]
    }
   ],
   "source": [
    "Top_Cities = Users['City'].value_counts()[:15]\n",
    "print(f'The 15 cities with the most users are:\\n{Top_Cities}')"
   ]
  },
  {
   "cell_type": "code",
   "execution_count": 12,
   "metadata": {},
   "outputs": [
    {
     "name": "stdout",
     "output_type": "stream",
     "text": [
      "State: 3888 empty entries | 13180 NaN entries\n"
     ]
    }
   ],
   "source": [
    "# State\n",
    "Empty_State = Users[Users.State == ''].State.count()\n",
    "Nan_State = Users.State.isnull().sum()\n",
    "print(f'State: {Empty_State} empty entries | {Nan_State} NaN entries')"
   ]
  },
  {
   "cell_type": "code",
   "execution_count": 13,
   "metadata": {},
   "outputs": [],
   "source": [
    "# We should change these empty strings to NaNs.\n",
    "Users.State.replace('', np.nan, inplace=True)"
   ]
  },
  {
   "cell_type": "code",
   "execution_count": 14,
   "metadata": {},
   "outputs": [
    {
     "name": "stdout",
     "output_type": "stream",
     "text": [
      "The 15 states with the most users are:\n",
      "California          19898\n",
      "England             10691\n",
      "Ontario              8737\n",
      "Texas                8392\n",
      "New York             7876\n",
      "Florida              7028\n",
      "Pennsylvania         6084\n",
      "Illinois             5874\n",
      "Washington           5824\n",
      "British Columbia     5400\n",
      "Ohio                 4685\n",
      "Michigan             4588\n",
      "Oregon               4322\n",
      "Virginia             4310\n",
      "Massachusetts        3970\n",
      "Name: State, dtype: int64\n"
     ]
    }
   ],
   "source": [
    "Top_States = Users['State'].value_counts()[:15]\n",
    "print(f'The 15 states with the most users are:\\n{Top_States}')"
   ]
  },
  {
   "cell_type": "code",
   "execution_count": 15,
   "metadata": {},
   "outputs": [
    {
     "name": "stdout",
     "output_type": "stream",
     "text": [
      "Country: 4572 empty entries | 99 NaN entries\n"
     ]
    }
   ],
   "source": [
    "# Country\n",
    "Empty_Country = Users[Users.Country == ''].Country.count()\n",
    "Nan_Country = Users.Country.isnull().sum()\n",
    "print(f'Country: {Empty_Country} empty entries | {Nan_Country} NaN entries')"
   ]
  },
  {
   "cell_type": "code",
   "execution_count": 16,
   "metadata": {},
   "outputs": [],
   "source": [
    "# We should change these empty strings to NaNs.\n",
    "Users.Country.replace('', np.nan, inplace=True)"
   ]
  },
  {
   "cell_type": "code",
   "execution_count": 17,
   "metadata": {},
   "outputs": [
    {
     "name": "stdout",
     "output_type": "stream",
     "text": [
      "The 15 countries with the most users are:\n",
      "Usa               139184\n",
      "Canada             21556\n",
      "United Kingdom     18304\n",
      "Germany            17051\n",
      "Spain              13198\n",
      "Australia          11720\n",
      "Italy              11243\n",
      "France              3472\n",
      "Portugal            3370\n",
      "New Zealand         3090\n",
      "Netherlands         3042\n",
      "Switzerland         1755\n",
      "Brazil              1674\n",
      "China               1462\n",
      "Sweden              1451\n",
      "Name: Country, dtype: int64\n"
     ]
    }
   ],
   "source": [
    "Top_Countries = Users['Country'].value_counts()[:15]\n",
    "print(f'The 15 countries with the most users are:\\n{Top_Countries}')"
   ]
  },
  {
   "cell_type": "markdown",
   "metadata": {},
   "source": [
    "Now let's take a look at the Age values."
   ]
  },
  {
   "cell_type": "code",
   "execution_count": 18,
   "metadata": {},
   "outputs": [
    {
     "name": "stdout",
     "output_type": "stream",
     "text": [
      "There are 110762 empty age values in a total of 278858 users (or 39.72%).\n"
     ]
    }
   ],
   "source": [
    "# Find the number of missing values\n",
    "Age_Null = Users.Age.isnull().sum()\n",
    "All_Users = Users.UserID.count()\n",
    "print(f'There are {Age_Null} empty age values in a total of {All_Users} users (or {(Age_Null/All_Users)*100:.2f}%).')"
   ]
  },
  {
   "cell_type": "code",
   "execution_count": 19,
   "metadata": {},
   "outputs": [
    {
     "name": "stdout",
     "output_type": "stream",
     "text": [
      "[nan, 0.0, 1.0, 2.0, 3.0, 4.0, 5.0, 6.0, 7.0, 8.0, 9.0, 10.0, 11.0, 12.0, 13.0, 14.0, 15.0, 16.0, 17.0, 18.0, 19.0, 20.0, 21.0, 22.0, 23.0, 24.0, 25.0, 26.0, 27.0, 28.0, 29.0, 30.0, 31.0, 32.0, 33.0, 34.0, 35.0, 36.0, 37.0, 38.0, 39.0, 40.0, 41.0, 42.0, 43.0, 44.0, 45.0, 46.0, 47.0, 48.0, 49.0, 50.0, 51.0, 52.0, 53.0, 54.0, 55.0, 56.0, 57.0, 58.0, 59.0, 60.0, 61.0, 62.0, 63.0, 64.0, 65.0, 66.0, 67.0, 68.0, 69.0, 70.0, 71.0, 72.0, 73.0, 74.0, 75.0, 76.0, 77.0, 78.0, 79.0, 80.0, 81.0, 82.0, 83.0, 84.0, 85.0, 86.0, 87.0, 88.0, 89.0, 90.0, 91.0, 92.0, 93.0, 94.0, 95.0, 96.0, 97.0, 98.0, 99.0, 100.0, 101.0, 102.0, 103.0, 104.0, 105.0, 106.0, 107.0, 108.0, 109.0, 110.0, 111.0, 113.0, 114.0, 115.0, 116.0, 118.0, 119.0, 123.0, 124.0, 127.0, 128.0, 132.0, 133.0, 136.0, 137.0, 138.0, 140.0, 141.0, 143.0, 146.0, 147.0, 148.0, 151.0, 152.0, 156.0, 157.0, 159.0, 162.0, 168.0, 172.0, 175.0, 183.0, 186.0, 189.0, 199.0, 200.0, 201.0, 204.0, 207.0, 208.0, 209.0, 210.0, 212.0, 219.0, 220.0, 223.0, 226.0, 228.0, 229.0, 230.0, 231.0, 237.0, 239.0, 244.0]\n"
     ]
    }
   ],
   "source": [
    "# Age unique values\n",
    "print(sorted(Users.Age.unique()))"
   ]
  },
  {
   "cell_type": "markdown",
   "metadata": {},
   "source": [
    "The age range goes from 0 to 244 years old. Obviously this does not make much sense, and hence, all values below 5 and above 100 will be replaced with NaNs."
   ]
  },
  {
   "cell_type": "code",
   "execution_count": 20,
   "metadata": {},
   "outputs": [],
   "source": [
    "Users.loc[(Users.Age > 100) | (Users.Age < 5), 'Age' ] = np.nan"
   ]
  },
  {
   "cell_type": "code",
   "execution_count": 21,
   "metadata": {},
   "outputs": [
    {
     "data": {
      "image/png": "[encoded data removed]",
      "text/plain": [
       "<Figure size 864x360 with 1 Axes>"
      ]
     },
     "metadata": {
      "needs_background": "light"
     },
     "output_type": "display_data"
    }
   ],
   "source": [
    "# We can also plot the Age distribution\n",
    "ax = Users.Age.hist(bins=10, figsize=(12,5))\n",
    "ax.set_xlabel('Age')\n",
    "ax.set_ylabel('Count')\n",
    "ax.set_xticks(range(0,110,10))\n",
    "plt.show()"
   ]
  },
  {
   "cell_type": "markdown",
   "metadata": {},
   "source": [
    "We see that the most active users are in their 20–30s."
   ]
  },
  {
   "cell_type": "markdown",
   "metadata": {},
   "source": [
    "####  Books Dataset"
   ]
  },
  {
   "cell_type": "markdown",
   "metadata": {},
   "source": [
    "We will explore Books dataset, firstly by checking its shape, first few columns and data types."
   ]
  },
  {
   "cell_type": "code",
   "execution_count": 22,
   "metadata": {},
   "outputs": [
    {
     "name": "stdout",
     "output_type": "stream",
     "text": [
      "(271379, 8)\n",
      "['ISBN', 'BookTitle', 'BookAuthor', 'YearofPublication', 'Publisher', 'ImageUrlS', 'ImageUrlM', 'ImageUrlL']\n"
     ]
    },
    {
     "data": {
      "text/html": [
       "<div>\n",
       "<style scoped>\n",
       "    .dataframe tbody tr th:only-of-type {\n",
       "        vertical-align: middle;\n",
       "    }\n",
       "\n",
       "    .dataframe tbody tr th {\n",
       "        vertical-align: top;\n",
       "    }\n",
       "\n",
       "    .dataframe thead th {\n",
       "        text-align: right;\n",
       "    }\n",
       "</style>\n",
       "<table border=\"1\" class=\"dataframe\">\n",
       "  <thead>\n",
       "    <tr style=\"text-align: right;\">\n",
       "      <th></th>\n",
       "      <th>ISBN</th>\n",
       "      <th>BookTitle</th>\n",
       "      <th>BookAuthor</th>\n",
       "      <th>YearofPublication</th>\n",
       "      <th>Publisher</th>\n",
       "      <th>ImageUrlS</th>\n",
       "      <th>ImageUrlM</th>\n",
       "      <th>ImageUrlL</th>\n",
       "    </tr>\n",
       "  </thead>\n",
       "  <tbody>\n",
       "    <tr>\n",
       "      <th>0</th>\n",
       "      <td>0195153448</td>\n",
       "      <td>Classical Mythology</td>\n",
       "      <td>Mark P. O. Morford</td>\n",
       "      <td>2002</td>\n",
       "      <td>Oxford University Press</td>\n",
       "      <td>http://images.amazon.com/images/P/0195153448.0...</td>\n",
       "      <td>http://images.amazon.com/images/P/0195153448.0...</td>\n",
       "      <td>http://images.amazon.com/images/P/0195153448.0...</td>\n",
       "    </tr>\n",
       "    <tr>\n",
       "      <th>1</th>\n",
       "      <td>0002005018</td>\n",
       "      <td>Clara Callan</td>\n",
       "      <td>Richard Bruce Wright</td>\n",
       "      <td>2001</td>\n",
       "      <td>HarperFlamingo Canada</td>\n",
       "      <td>http://images.amazon.com/images/P/0002005018.0...</td>\n",
       "      <td>http://images.amazon.com/images/P/0002005018.0...</td>\n",
       "      <td>http://images.amazon.com/images/P/0002005018.0...</td>\n",
       "    </tr>\n",
       "    <tr>\n",
       "      <th>2</th>\n",
       "      <td>0060973129</td>\n",
       "      <td>Decision in Normandy</td>\n",
       "      <td>Carlo D'Este</td>\n",
       "      <td>1991</td>\n",
       "      <td>HarperPerennial</td>\n",
       "      <td>http://images.amazon.com/images/P/0060973129.0...</td>\n",
       "      <td>http://images.amazon.com/images/P/0060973129.0...</td>\n",
       "      <td>http://images.amazon.com/images/P/0060973129.0...</td>\n",
       "    </tr>\n",
       "    <tr>\n",
       "      <th>3</th>\n",
       "      <td>0374157065</td>\n",
       "      <td>Flu: The Story of the Great Influenza Pandemic...</td>\n",
       "      <td>Gina Bari Kolata</td>\n",
       "      <td>1999</td>\n",
       "      <td>Farrar Straus Giroux</td>\n",
       "      <td>http://images.amazon.com/images/P/0374157065.0...</td>\n",
       "      <td>http://images.amazon.com/images/P/0374157065.0...</td>\n",
       "      <td>http://images.amazon.com/images/P/0374157065.0...</td>\n",
       "    </tr>\n",
       "    <tr>\n",
       "      <th>4</th>\n",
       "      <td>0393045218</td>\n",
       "      <td>The Mummies of Urumchi</td>\n",
       "      <td>E. J. W. Barber</td>\n",
       "      <td>1999</td>\n",
       "      <td>W. W. Norton &amp;amp; Company</td>\n",
       "      <td>http://images.amazon.com/images/P/0393045218.0...</td>\n",
       "      <td>http://images.amazon.com/images/P/0393045218.0...</td>\n",
       "      <td>http://images.amazon.com/images/P/0393045218.0...</td>\n",
       "    </tr>\n",
       "  </tbody>\n",
       "</table>\n",
       "</div>"
      ],
      "text/plain": [
       "         ISBN                                          BookTitle  \\\n",
       "0  0195153448                                Classical Mythology   \n",
       "1  0002005018                                       Clara Callan   \n",
       "2  0060973129                               Decision in Normandy   \n",
       "3  0374157065  Flu: The Story of the Great Influenza Pandemic...   \n",
       "4  0393045218                             The Mummies of Urumchi   \n",
       "\n",
       "             BookAuthor  YearofPublication                   Publisher  \\\n",
       "0    Mark P. O. Morford               2002     Oxford University Press   \n",
       "1  Richard Bruce Wright               2001       HarperFlamingo Canada   \n",
       "2          Carlo D'Este               1991             HarperPerennial   \n",
       "3      Gina Bari Kolata               1999        Farrar Straus Giroux   \n",
       "4       E. J. W. Barber               1999  W. W. Norton &amp; Company   \n",
       "\n",
       "                                           ImageUrlS  \\\n",
       "0  http://images.amazon.com/images/P/0195153448.0...   \n",
       "1  http://images.amazon.com/images/P/0002005018.0...   \n",
       "2  http://images.amazon.com/images/P/0060973129.0...   \n",
       "3  http://images.amazon.com/images/P/0374157065.0...   \n",
       "4  http://images.amazon.com/images/P/0393045218.0...   \n",
       "\n",
       "                                           ImageUrlM  \\\n",
       "0  http://images.amazon.com/images/P/0195153448.0...   \n",
       "1  http://images.amazon.com/images/P/0002005018.0...   \n",
       "2  http://images.amazon.com/images/P/0060973129.0...   \n",
       "3  http://images.amazon.com/images/P/0374157065.0...   \n",
       "4  http://images.amazon.com/images/P/0393045218.0...   \n",
       "\n",
       "                                           ImageUrlL  \n",
       "0  http://images.amazon.com/images/P/0195153448.0...  \n",
       "1  http://images.amazon.com/images/P/0002005018.0...  \n",
       "2  http://images.amazon.com/images/P/0060973129.0...  \n",
       "3  http://images.amazon.com/images/P/0374157065.0...  \n",
       "4  http://images.amazon.com/images/P/0393045218.0...  "
      ]
     },
     "execution_count": 22,
     "metadata": {},
     "output_type": "execute_result"
    }
   ],
   "source": [
    "print(Books.shape)\n",
    "print(list(Books.columns))\n",
    "Books.head()"
   ]
  },
  {
   "cell_type": "code",
   "execution_count": 23,
   "metadata": {},
   "outputs": [],
   "source": [
    "# We can see that image URLs columns do not seem to be required for analysis, and hence\n",
    "# they will be dropped off.\n",
    "Books.drop(columns=['ImageUrlS', 'ImageUrlM', 'ImageUrlL'], inplace=True)"
   ]
  },
  {
   "cell_type": "code",
   "execution_count": 24,
   "metadata": {},
   "outputs": [
    {
     "data": {
      "text/plain": [
       "ISBN                 object\n",
       "BookTitle            object\n",
       "BookAuthor           object\n",
       "YearofPublication     int64\n",
       "Publisher            object\n",
       "dtype: object"
      ]
     },
     "execution_count": 24,
     "metadata": {},
     "output_type": "execute_result"
    }
   ],
   "source": [
    "# We now check the data types for each of the columns. \n",
    "Books.dtypes"
   ]
  },
  {
   "cell_type": "code",
   "execution_count": 25,
   "metadata": {},
   "outputs": [
    {
     "name": "stdout",
     "output_type": "stream",
     "text": [
      "Total book entries: 271379 | Unique book entries: 271379\n"
     ]
    }
   ],
   "source": [
    "# Check if there are any duplicate books.\n",
    "Unique_Books = Books.ISBN.nunique()\n",
    "All_Books = Books.ISBN.count()\n",
    "print(f'Total book entries: {All_Books} | Unique book entries: {Unique_Books}')"
   ]
  },
  {
   "cell_type": "code",
   "execution_count": 26,
   "metadata": {},
   "outputs": [
    {
     "name": "stdout",
     "output_type": "stream",
     "text": [
      "YearofPublication: 4619 entries as '0' | 0 NaN entries\n"
     ]
    }
   ],
   "source": [
    "## YearofPublication\n",
    "\n",
    "# Check for 0's or NaNs in YearofPublication\n",
    "Zero_Years = Books[Books.YearofPublication == 0].YearofPublication.count()\n",
    "Nan_Years = Books.YearofPublication.isnull().sum()\n",
    "print(f'YearofPublication: {Zero_Years} entries as \\'0\\' | {Nan_Years} NaN entries')"
   ]
  },
  {
   "cell_type": "code",
   "execution_count": 111,
   "metadata": {},
   "outputs": [
    {
     "name": "stdout",
     "output_type": "stream",
     "text": [
      "[1920.0, 1941.0, 1942.0, 1951.0, 1952.0, 1953.0, 1956.0, 1958.0, 1959.0, 1960.0, 1961.0, 1962.0, 1963.0, 1964.0, 1965.0, 1966.0, 1968.0, 1970.0, 1971.0, 1972.0, 1973.0, 1974.0, 1975.0, 1976.0, 1977.0, 1978.0, 1979.0, 1980.0, 1981.0, 1982.0, 1983.0, 1984.0, 1985.0, 1986.0, 1987.0, 1988.0, 1989.0, 1990.0, 1991.0, 1992.0, 1993.0, 1994.0, 1995.0, 1996.0, 1997.0, 1998.0, 1999.0, 2000.0, 2001.0, 2002.0, 2003.0, 2004.0, nan, 1900.0, 1901.0, 1902.0, 1904.0, 1906.0, 1908.0, 1909.0, 1910.0, 1911.0, 1914.0, 1917.0, 1919.0, 1921.0, 1922.0, 1923.0, 1924.0, 1925.0, 1926.0, 1927.0, 1928.0, 1929.0, 1930.0, 1931.0, 1932.0, 1933.0, 1934.0, 1935.0, 1936.0, 1937.0, 1938.0, 1939.0, 1940.0, 1943.0, 1944.0, 1945.0, 1946.0, 1947.0, 1948.0, 1949.0, 1950.0, 1954.0, 1955.0, 1957.0, 1967.0, 1969.0, 2005.0, 2006.0, 2008.0, 2010.0, 2011.0, 2012.0, 2020.0]\n"
     ]
    }
   ],
   "source": [
    "# Replace all years of zero with NaN\n",
    "Books.YearofPublication.replace(0, np.nan, inplace=True)\n",
    "\n",
    "# YearofPublication unique values\n",
    "print(sorted(Books.YearofPublication.unique()))"
   ]
  },
  {
   "cell_type": "code",
   "execution_count": 28,
   "metadata": {},
   "outputs": [
    {
     "data": {
      "text/plain": [
       "YearofPublication\n",
       "1376.0        1\n",
       "1378.0        1\n",
       "1806.0        1\n",
       "1897.0        1\n",
       "1900.0        3\n",
       "1901.0        7\n",
       "1902.0        2\n",
       "1904.0        1\n",
       "1906.0        1\n",
       "1908.0        1\n",
       "1909.0        2\n",
       "1910.0        1\n",
       "1911.0       19\n",
       "1914.0        1\n",
       "1917.0        1\n",
       "1919.0        1\n",
       "1920.0       33\n",
       "1921.0        2\n",
       "1922.0        2\n",
       "1923.0       11\n",
       "1924.0        2\n",
       "1925.0        2\n",
       "1926.0        2\n",
       "1927.0        2\n",
       "1928.0        2\n",
       "1929.0        7\n",
       "1930.0       13\n",
       "1931.0        3\n",
       "1932.0        5\n",
       "1933.0        4\n",
       "          ...  \n",
       "1989.0     7937\n",
       "1990.0     8661\n",
       "1991.0     9389\n",
       "1992.0     9906\n",
       "1993.0    10602\n",
       "1994.0    11796\n",
       "1995.0    13548\n",
       "1996.0    14031\n",
       "1997.0    14892\n",
       "1998.0    15767\n",
       "1999.0    17432\n",
       "2000.0    17235\n",
       "2001.0    17360\n",
       "2002.0    17628\n",
       "2003.0    14359\n",
       "2004.0     5839\n",
       "2005.0       46\n",
       "2006.0        3\n",
       "2008.0        1\n",
       "2010.0        2\n",
       "2011.0        2\n",
       "2012.0        1\n",
       "2020.0        3\n",
       "2021.0        1\n",
       "2024.0        1\n",
       "2026.0        1\n",
       "2030.0        7\n",
       "2037.0        1\n",
       "2038.0        1\n",
       "2050.0        2\n",
       "Length: 115, dtype: int64"
      ]
     },
     "execution_count": 28,
     "metadata": {},
     "output_type": "execute_result"
    }
   ],
   "source": [
    "# It can be seen that YearofPublication has values ranging from 1376–2050. \n",
    "# There are books in the dataset with YearofPublication in the 1300s or in the future.\n",
    "\n",
    "Books.groupby([\"YearofPublication\"]).size()"
   ]
  },
  {
   "cell_type": "code",
   "execution_count": 29,
   "metadata": {},
   "outputs": [],
   "source": [
    "# We have 1 book for each of 1376, 1378, 1806, 1897, 2021, 2024, 2026, 2037 and 2038 YearofPublication, \n",
    "# 7 with YearofPublication 2030 and 2 with YearofPublication 2050.\n",
    "\n",
    "# As this dataset was built in 2004, and as there are only a few (18 in total) books with outliers\n",
    "# in the YearofPublication, we will remove them from the Books table, as they may potentially skew the model.\n",
    "\n",
    "Drop_Books = Books[ (Books.YearofPublication!=0) & ((Books.YearofPublication < 1900) | (Books.YearofPublication > 2020)) ] \n",
    "Books = Books.loc[~(Books.ISBN.isin(Drop_Books.ISBN))] "
   ]
  },
  {
   "cell_type": "code",
   "execution_count": 30,
   "metadata": {},
   "outputs": [
    {
     "data": {
      "image/png": "[encoded data removed]",
      "text/plain": [
       "<Figure size 864x720 with 1 Axes>"
      ]
     },
     "metadata": {
      "needs_background": "light"
     },
     "output_type": "display_data"
    }
   ],
   "source": [
    "# We can also plot the YearofPublication distribution\n",
    "Yrs = Books.YearofPublication.value_counts().sort_index()\n",
    "plt.figure(figsize=(12, 10))\n",
    "plt.bar(Yrs.index, Yrs.values)\n",
    "plt.xlabel('Year of Publication')\n",
    "plt.ylabel('Count')\n",
    "plt.show()"
   ]
  },
  {
   "cell_type": "markdown",
   "metadata": {},
   "source": [
    "We see that more recent books are much more frequent."
   ]
  },
  {
   "cell_type": "code",
   "execution_count": 31,
   "metadata": {},
   "outputs": [
    {
     "name": "stdout",
     "output_type": "stream",
     "text": [
      "Publisher: 0 empty entries | 2 NaN entries\n"
     ]
    }
   ],
   "source": [
    "## Publisher\n",
    "\n",
    "# Search for empty or NaN values.\n",
    "Empty_Publisher = Books[Books.Publisher == ''].Publisher.count()\n",
    "Nan_Publisher = Books.Publisher.isnull().sum()\n",
    "print(f'Publisher: {Empty_Publisher} empty entries | {Nan_Publisher} NaN entries')"
   ]
  },
  {
   "cell_type": "markdown",
   "metadata": {},
   "source": [
    "Before going further, we need to clean up the Publisher data by replacing some ASCII characters with appropriate characters etc."
   ]
  },
  {
   "cell_type": "code",
   "execution_count": 32,
   "metadata": {},
   "outputs": [],
   "source": [
    "# First, we will clean up the ampersand formatting in the Publisher field.\n",
    "Books.Publisher = Books.Publisher.str.replace('&amp;', '&', regex=False)\n",
    "# Replace some ASCII characters with appropriate characters\n",
    "Books.Publisher = Books.Publisher.apply(lambda x: strip_accents(x))\n",
    "# Trim leading and/or trailing white spaces\n",
    "Books = Books.applymap(lambda x: x.strip() if isinstance(x, str) else x)\n",
    "# Capitalize First Letter\n",
    "Books = Books.applymap(lambda x: string.capwords(x) if isinstance(x, str) else x)"
   ]
  },
  {
   "cell_type": "code",
   "execution_count": 33,
   "metadata": {},
   "outputs": [
    {
     "name": "stdout",
     "output_type": "stream",
     "text": [
      "The 15 publishers with the most entries are:\n",
      "Harlequin                   7537\n",
      "Silhouette                  4220\n",
      "Pocket                      3905\n",
      "Ballantine Books            3783\n",
      "Bantam Books                3649\n",
      "Harpercollins               3371\n",
      "Scholastic                  3176\n",
      "Simon & Schuster            2969\n",
      "Penguin Books               2844\n",
      "Berkley Publishing Group    2771\n",
      "Warner Books                2727\n",
      "Penguin Usa                 2716\n",
      "Fawcett Books               2258\n",
      "Signet Book                 2070\n",
      "Random House Inc            2045\n",
      "Name: Publisher, dtype: int64\n"
     ]
    }
   ],
   "source": [
    "# Find the 15 top Publishers\n",
    "Top_Publishers = Books['Publisher'].value_counts()[:15]\n",
    "print(f'The 15 publishers with the most entries are:\\n{Top_Publishers}')         "
   ]
  },
  {
   "cell_type": "code",
   "execution_count": 34,
   "metadata": {},
   "outputs": [
    {
     "name": "stdout",
     "output_type": "stream",
     "text": [
      "Author: 0 empty entries | 1 NaN entries\n"
     ]
    }
   ],
   "source": [
    "## BookAuthor\n",
    "\n",
    "# Search for empty or NaN values.\n",
    "Empty_Author = Books[Books.BookAuthor == ''].BookAuthor.count()\n",
    "Nan_Author = Books.BookAuthor.isnull().sum()\n",
    "print(f'Author: {Empty_Author} empty entries | {Nan_Author} NaN entries')"
   ]
  },
  {
   "cell_type": "markdown",
   "metadata": {},
   "source": [
    "Before going further, we need to clean up the BookAuthor data by replacing some ASCII characters with appropriate characters etc."
   ]
  },
  {
   "cell_type": "code",
   "execution_count": 35,
   "metadata": {},
   "outputs": [],
   "source": [
    "# Replace some ASCII characters with appropriate characters\n",
    "Books.BookAuthor = Books.BookAuthor.apply(lambda x: strip_accents(x))\n",
    "# Trim leading and/or trailing white spaces\n",
    "Books = Books.applymap(lambda x: x.strip() if isinstance(x, str) else x)\n",
    "# Replace not applicable (na ) strings with nan\n",
    "Books = Books.replace({'not applicable (na )': np.nan}, regex=False)\n",
    "# Capitalize First Letter\n",
    "Books = Books.applymap(lambda x: string.capwords(x) if isinstance(x, str) else x)"
   ]
  },
  {
   "cell_type": "code",
   "execution_count": 36,
   "metadata": {},
   "outputs": [
    {
     "name": "stdout",
     "output_type": "stream",
     "text": [
      "The 15 authors with the most entries are:\n",
      "Agatha Christie        636\n",
      "William Shakespeare    572\n",
      "Stephen King           534\n",
      "Ann M. Martin          423\n",
      "Francine Pascal        420\n",
      "Carolyn Keene          373\n",
      "Isaac Asimov           344\n",
      "Nora Roberts           319\n",
      "Barbara Cartland       308\n",
      "Charles Dickens        307\n",
      "R. L. Stine            282\n",
      "Mark Twain             236\n",
      "Jane Austen            230\n",
      "Piers Anthony          222\n",
      "Mary Higgins Clark     221\n",
      "Name: BookAuthor, dtype: int64\n"
     ]
    }
   ],
   "source": [
    "# Find the 15 top Authors\n",
    "Top_Authors = Books['BookAuthor'].value_counts()[:15]\n",
    "print(f'The 15 authors with the most entries are:\\n{Top_Authors}')          "
   ]
  },
  {
   "cell_type": "code",
   "execution_count": 37,
   "metadata": {},
   "outputs": [
    {
     "name": "stdout",
     "output_type": "stream",
     "text": [
      "Title: 0 empty entries | 0 NaN entries\n"
     ]
    }
   ],
   "source": [
    "## BookTitle\n",
    "\n",
    "# Search for empty or NaN values.\n",
    "Empty_Title = Books[Books.BookTitle == ''].BookTitle.count()\n",
    "Nan_Title = Books.BookTitle.isnull().sum()\n",
    "print(f'Title: {Empty_Title} empty entries | {Nan_Title} NaN entries')"
   ]
  },
  {
   "cell_type": "code",
   "execution_count": 38,
   "metadata": {},
   "outputs": [],
   "source": [
    "# First, we will clean up the ampersand formatting in the BookTitle field.\n",
    "Books.BookTitle = Books.BookTitle.str.replace('&amp;', '&', regex=False)\n",
    "# Replace some ASCII characters with appropriate characters\n",
    "Books.BookTitle = Books.BookTitle.apply(lambda x: strip_accents(x))\n",
    "# Trim leading and/or trailing white spaces\n",
    "Books = Books.applymap(lambda x: x.strip() if isinstance(x, str) else x)\n",
    "# Capitalize First Letter\n",
    "Books = Books.applymap(lambda x: string.capwords(x) if isinstance(x, str) else x)"
   ]
  },
  {
   "cell_type": "code",
   "execution_count": 39,
   "metadata": {},
   "outputs": [
    {
     "name": "stdout",
     "output_type": "stream",
     "text": [
      "The 15 titles with the most entries are:\n",
      "Selected Poems                    28\n",
      "Little Women                      26\n",
      "Dracula                           22\n",
      "Wuthering Heights                 22\n",
      "The Secret Garden                 21\n",
      "The Night Before Christmas        20\n",
      "Adventures Of Huckleberry Finn    20\n",
      "Jane Eyre                         19\n",
      "Pride And Prejudice               19\n",
      "Great Expectations                17\n",
      "Nemesis                           17\n",
      "Masquerade                        16\n",
      "Black Beauty                      16\n",
      "Frankenstein                      16\n",
      "Beloved                           15\n",
      "Name: BookTitle, dtype: int64\n"
     ]
    }
   ],
   "source": [
    "# Find the 15 top Titles\n",
    "Top_Titles = Books['BookTitle'].value_counts()[:15]\n",
    "print(f'The 15 titles with the most entries are:\\n{Top_Titles}') "
   ]
  },
  {
   "cell_type": "markdown",
   "metadata": {},
   "source": [
    "We see that although the ISBN column has only unique values, there are many books with the same title.  \n",
    "These may be books corresponding to a different version of the book."
   ]
  },
  {
   "cell_type": "code",
   "execution_count": 40,
   "metadata": {},
   "outputs": [
    {
     "data": {
      "text/html": [
       "<div>\n",
       "<style scoped>\n",
       "    .dataframe tbody tr th:only-of-type {\n",
       "        vertical-align: middle;\n",
       "    }\n",
       "\n",
       "    .dataframe tbody tr th {\n",
       "        vertical-align: top;\n",
       "    }\n",
       "\n",
       "    .dataframe thead th {\n",
       "        text-align: right;\n",
       "    }\n",
       "</style>\n",
       "<table border=\"1\" class=\"dataframe\">\n",
       "  <thead>\n",
       "    <tr style=\"text-align: right;\">\n",
       "      <th></th>\n",
       "      <th>ISBN</th>\n",
       "      <th>BookTitle</th>\n",
       "      <th>BookAuthor</th>\n",
       "      <th>YearofPublication</th>\n",
       "      <th>Publisher</th>\n",
       "    </tr>\n",
       "  </thead>\n",
       "  <tbody>\n",
       "    <tr>\n",
       "      <th>4523</th>\n",
       "      <td>081120958x</td>\n",
       "      <td>Selected Poems</td>\n",
       "      <td>William Carlos Williams</td>\n",
       "      <td>1985.0</td>\n",
       "      <td>New Directions Publishing Corporation</td>\n",
       "    </tr>\n",
       "    <tr>\n",
       "      <th>29277</th>\n",
       "      <td>1875989927</td>\n",
       "      <td>Selected Poems</td>\n",
       "      <td>Jamie Grant</td>\n",
       "      <td>2001.0</td>\n",
       "      <td>Duffy &amp; Snellgrove</td>\n",
       "    </tr>\n",
       "    <tr>\n",
       "      <th>39417</th>\n",
       "      <td>0811201465</td>\n",
       "      <td>Selected Poems</td>\n",
       "      <td>K. Patchen</td>\n",
       "      <td>1957.0</td>\n",
       "      <td>New Directions Publishing Corporation</td>\n",
       "    </tr>\n",
       "    <tr>\n",
       "      <th>41317</th>\n",
       "      <td>0679750800</td>\n",
       "      <td>Selected Poems</td>\n",
       "      <td>Rita Dove</td>\n",
       "      <td>1993.0</td>\n",
       "      <td>Vintage Books Usa</td>\n",
       "    </tr>\n",
       "    <tr>\n",
       "      <th>106890</th>\n",
       "      <td>0060931744</td>\n",
       "      <td>Selected Poems</td>\n",
       "      <td>Gwendolyn Brooks</td>\n",
       "      <td>1999.0</td>\n",
       "      <td>Perennial</td>\n",
       "    </tr>\n",
       "    <tr>\n",
       "      <th>118780</th>\n",
       "      <td>0517101548</td>\n",
       "      <td>Selected Poems</td>\n",
       "      <td>John Donne</td>\n",
       "      <td>1994.0</td>\n",
       "      <td>Gramercy Books</td>\n",
       "    </tr>\n",
       "    <tr>\n",
       "      <th>127468</th>\n",
       "      <td>0520012984</td>\n",
       "      <td>Selected Poems</td>\n",
       "      <td>Paul Verlaine</td>\n",
       "      <td>1970.0</td>\n",
       "      <td>University Of California Press</td>\n",
       "    </tr>\n",
       "    <tr>\n",
       "      <th>156902</th>\n",
       "      <td>0871401541</td>\n",
       "      <td>Selected Poems</td>\n",
       "      <td>E. E. Cummings</td>\n",
       "      <td>1994.0</td>\n",
       "      <td>Liveright Publishing Corporation</td>\n",
       "    </tr>\n",
       "    <tr>\n",
       "      <th>158321</th>\n",
       "      <td>0060909897</td>\n",
       "      <td>Selected Poems</td>\n",
       "      <td>Gwendolyn Brooks</td>\n",
       "      <td>1963.0</td>\n",
       "      <td>Harpercollins</td>\n",
       "    </tr>\n",
       "    <tr>\n",
       "      <th>175611</th>\n",
       "      <td>0571050190</td>\n",
       "      <td>Selected Poems</td>\n",
       "      <td>T. T Gunn</td>\n",
       "      <td>1962.0</td>\n",
       "      <td>Farrar Straus &amp; Giroux</td>\n",
       "    </tr>\n",
       "    <tr>\n",
       "      <th>183918</th>\n",
       "      <td>1550651498</td>\n",
       "      <td>Selected Poems</td>\n",
       "      <td>Ralph Gustafson</td>\n",
       "      <td>2001.0</td>\n",
       "      <td>Vehicule Press</td>\n",
       "    </tr>\n",
       "    <tr>\n",
       "      <th>184907</th>\n",
       "      <td>0333516265</td>\n",
       "      <td>Selected Poems</td>\n",
       "      <td>Thomas Hardy</td>\n",
       "      <td>1989.0</td>\n",
       "      <td>Macmillan</td>\n",
       "    </tr>\n",
       "    <tr>\n",
       "      <th>189258</th>\n",
       "      <td>0679430830</td>\n",
       "      <td>Selected Poems</td>\n",
       "      <td>Rita Dove</td>\n",
       "      <td>1993.0</td>\n",
       "      <td>Pantheon Books</td>\n",
       "    </tr>\n",
       "    <tr>\n",
       "      <th>189974</th>\n",
       "      <td>0940262193</td>\n",
       "      <td>Selected Poems</td>\n",
       "      <td>Kathleen Raine</td>\n",
       "      <td>1989.0</td>\n",
       "      <td>Rudolph Steiner Pr</td>\n",
       "    </tr>\n",
       "    <tr>\n",
       "      <th>196955</th>\n",
       "      <td>0802151027</td>\n",
       "      <td>Selected Poems</td>\n",
       "      <td>Pablo Neruda</td>\n",
       "      <td>1961.0</td>\n",
       "      <td>Grove Press</td>\n",
       "    </tr>\n",
       "    <tr>\n",
       "      <th>198971</th>\n",
       "      <td>1852240954</td>\n",
       "      <td>Selected Poems</td>\n",
       "      <td>Jenny Joseph</td>\n",
       "      <td>1992.0</td>\n",
       "      <td>Bloodaxe Books Ltd</td>\n",
       "    </tr>\n",
       "    <tr>\n",
       "      <th>202459</th>\n",
       "      <td>0679765654</td>\n",
       "      <td>Selected Poems</td>\n",
       "      <td>Daniel Halpern</td>\n",
       "      <td>1996.0</td>\n",
       "      <td>Alfred A. Knopf</td>\n",
       "    </tr>\n",
       "    <tr>\n",
       "      <th>202754</th>\n",
       "      <td>0906427851</td>\n",
       "      <td>Selected Poems</td>\n",
       "      <td>Denise Levertov</td>\n",
       "      <td>1986.0</td>\n",
       "      <td>Bloodaxe Books Ltd</td>\n",
       "    </tr>\n",
       "    <tr>\n",
       "      <th>213201</th>\n",
       "      <td>0520069358</td>\n",
       "      <td>Selected Poems</td>\n",
       "      <td>Robert Creeley</td>\n",
       "      <td>1991.0</td>\n",
       "      <td>University Of California Press</td>\n",
       "    </tr>\n",
       "    <tr>\n",
       "      <th>215281</th>\n",
       "      <td>0156003961</td>\n",
       "      <td>Selected Poems</td>\n",
       "      <td>Carl Sandburg</td>\n",
       "      <td>1996.0</td>\n",
       "      <td>Harvest Books</td>\n",
       "    </tr>\n",
       "    <tr>\n",
       "      <th>226037</th>\n",
       "      <td>0395320461</td>\n",
       "      <td>Selected Poems</td>\n",
       "      <td>Galway Kinnell</td>\n",
       "      <td>1983.0</td>\n",
       "      <td>Houghton Mifflin Company</td>\n",
       "    </tr>\n",
       "    <tr>\n",
       "      <th>232076</th>\n",
       "      <td>006093168x</td>\n",
       "      <td>Selected Poems</td>\n",
       "      <td>Edna St. Vincent Millay</td>\n",
       "      <td>1999.0</td>\n",
       "      <td>Perennial</td>\n",
       "    </tr>\n",
       "    <tr>\n",
       "      <th>236722</th>\n",
       "      <td>0679724834</td>\n",
       "      <td>Selected Poems</td>\n",
       "      <td>W. H. Auden</td>\n",
       "      <td>1989.0</td>\n",
       "      <td>Vintage Books Usa</td>\n",
       "    </tr>\n",
       "    <tr>\n",
       "      <th>247800</th>\n",
       "      <td>0394702956</td>\n",
       "      <td>Selected Poems</td>\n",
       "      <td>R. Jeffers</td>\n",
       "      <td>1963.0</td>\n",
       "      <td>Vintage Books Usa</td>\n",
       "    </tr>\n",
       "    <tr>\n",
       "      <th>248325</th>\n",
       "      <td>0811209512</td>\n",
       "      <td>Selected Poems</td>\n",
       "      <td>Michael Mc Clure</td>\n",
       "      <td>1986.0</td>\n",
       "      <td>W W Norton &amp; Co Inc</td>\n",
       "    </tr>\n",
       "    <tr>\n",
       "      <th>248853</th>\n",
       "      <td>0670809179</td>\n",
       "      <td>Selected Poems</td>\n",
       "      <td>John Ashbery</td>\n",
       "      <td>1985.0</td>\n",
       "      <td>Penguin Usa</td>\n",
       "    </tr>\n",
       "    <tr>\n",
       "      <th>251709</th>\n",
       "      <td>0460871501</td>\n",
       "      <td>Selected Poems</td>\n",
       "      <td>Elizabeth Barrett Browning</td>\n",
       "      <td>1992.0</td>\n",
       "      <td>Phoenix Mass Market P/bk</td>\n",
       "    </tr>\n",
       "    <tr>\n",
       "      <th>254114</th>\n",
       "      <td>0571210767</td>\n",
       "      <td>Selected Poems</td>\n",
       "      <td>Simon Armitage</td>\n",
       "      <td>2001.0</td>\n",
       "      <td>Faber And Faber Ltd</td>\n",
       "    </tr>\n",
       "  </tbody>\n",
       "</table>\n",
       "</div>"
      ],
      "text/plain": [
       "              ISBN       BookTitle                  BookAuthor  \\\n",
       "4523    081120958x  Selected Poems     William Carlos Williams   \n",
       "29277   1875989927  Selected Poems                 Jamie Grant   \n",
       "39417   0811201465  Selected Poems                  K. Patchen   \n",
       "41317   0679750800  Selected Poems                   Rita Dove   \n",
       "106890  0060931744  Selected Poems            Gwendolyn Brooks   \n",
       "118780  0517101548  Selected Poems                  John Donne   \n",
       "127468  0520012984  Selected Poems               Paul Verlaine   \n",
       "156902  0871401541  Selected Poems              E. E. Cummings   \n",
       "158321  0060909897  Selected Poems            Gwendolyn Brooks   \n",
       "175611  0571050190  Selected Poems                   T. T Gunn   \n",
       "183918  1550651498  Selected Poems             Ralph Gustafson   \n",
       "184907  0333516265  Selected Poems                Thomas Hardy   \n",
       "189258  0679430830  Selected Poems                   Rita Dove   \n",
       "189974  0940262193  Selected Poems              Kathleen Raine   \n",
       "196955  0802151027  Selected Poems                Pablo Neruda   \n",
       "198971  1852240954  Selected Poems                Jenny Joseph   \n",
       "202459  0679765654  Selected Poems              Daniel Halpern   \n",
       "202754  0906427851  Selected Poems             Denise Levertov   \n",
       "213201  0520069358  Selected Poems              Robert Creeley   \n",
       "215281  0156003961  Selected Poems               Carl Sandburg   \n",
       "226037  0395320461  Selected Poems              Galway Kinnell   \n",
       "232076  006093168x  Selected Poems     Edna St. Vincent Millay   \n",
       "236722  0679724834  Selected Poems                 W. H. Auden   \n",
       "247800  0394702956  Selected Poems                  R. Jeffers   \n",
       "248325  0811209512  Selected Poems            Michael Mc Clure   \n",
       "248853  0670809179  Selected Poems                John Ashbery   \n",
       "251709  0460871501  Selected Poems  Elizabeth Barrett Browning   \n",
       "254114  0571210767  Selected Poems              Simon Armitage   \n",
       "\n",
       "        YearofPublication                              Publisher  \n",
       "4523               1985.0  New Directions Publishing Corporation  \n",
       "29277              2001.0                     Duffy & Snellgrove  \n",
       "39417              1957.0  New Directions Publishing Corporation  \n",
       "41317              1993.0                      Vintage Books Usa  \n",
       "106890             1999.0                              Perennial  \n",
       "118780             1994.0                         Gramercy Books  \n",
       "127468             1970.0         University Of California Press  \n",
       "156902             1994.0       Liveright Publishing Corporation  \n",
       "158321             1963.0                          Harpercollins  \n",
       "175611             1962.0                 Farrar Straus & Giroux  \n",
       "183918             2001.0                         Vehicule Press  \n",
       "184907             1989.0                              Macmillan  \n",
       "189258             1993.0                         Pantheon Books  \n",
       "189974             1989.0                     Rudolph Steiner Pr  \n",
       "196955             1961.0                            Grove Press  \n",
       "198971             1992.0                     Bloodaxe Books Ltd  \n",
       "202459             1996.0                        Alfred A. Knopf  \n",
       "202754             1986.0                     Bloodaxe Books Ltd  \n",
       "213201             1991.0         University Of California Press  \n",
       "215281             1996.0                          Harvest Books  \n",
       "226037             1983.0               Houghton Mifflin Company  \n",
       "232076             1999.0                              Perennial  \n",
       "236722             1989.0                      Vintage Books Usa  \n",
       "247800             1963.0                      Vintage Books Usa  \n",
       "248325             1986.0                    W W Norton & Co Inc  \n",
       "248853             1985.0                            Penguin Usa  \n",
       "251709             1992.0               Phoenix Mass Market P/bk  \n",
       "254114             2001.0                    Faber And Faber Ltd  "
      ]
     },
     "execution_count": 40,
     "metadata": {},
     "output_type": "execute_result"
    }
   ],
   "source": [
    "# Let's investigate for example the top 1 title \"Selected Poems\".\n",
    "Books[Books.BookTitle=='Selected Poems']"
   ]
  },
  {
   "cell_type": "markdown",
   "metadata": {},
   "source": [
    "It looks like that for this book we have either different author or different publisher or different year of publication.  \n",
    "Since our goal is to build a Book Recommender, our recommendations will be for a book, not a specific edition of a book.\n",
    "So, later we will have to create a new field, where all the identical book-author cases would be considered as the same entry.\n"
   ]
  },
  {
   "cell_type": "markdown",
   "metadata": {},
   "source": [
    "####  Ratings Dataset"
   ]
  },
  {
   "cell_type": "markdown",
   "metadata": {},
   "source": [
    "We will explore Ratings dataset, firstly by checking its shape, first few columns and data types."
   ]
  },
  {
   "cell_type": "code",
   "execution_count": 41,
   "metadata": {},
   "outputs": [
    {
     "name": "stdout",
     "output_type": "stream",
     "text": [
      "(1149780, 3)\n",
      "['UserID', 'ISBN', 'BookRating']\n"
     ]
    },
    {
     "data": {
      "text/html": [
       "<div>\n",
       "<style scoped>\n",
       "    .dataframe tbody tr th:only-of-type {\n",
       "        vertical-align: middle;\n",
       "    }\n",
       "\n",
       "    .dataframe tbody tr th {\n",
       "        vertical-align: top;\n",
       "    }\n",
       "\n",
       "    .dataframe thead th {\n",
       "        text-align: right;\n",
       "    }\n",
       "</style>\n",
       "<table border=\"1\" class=\"dataframe\">\n",
       "  <thead>\n",
       "    <tr style=\"text-align: right;\">\n",
       "      <th></th>\n",
       "      <th>UserID</th>\n",
       "      <th>ISBN</th>\n",
       "      <th>BookRating</th>\n",
       "    </tr>\n",
       "  </thead>\n",
       "  <tbody>\n",
       "    <tr>\n",
       "      <th>0</th>\n",
       "      <td>276725</td>\n",
       "      <td>034545104X</td>\n",
       "      <td>0</td>\n",
       "    </tr>\n",
       "    <tr>\n",
       "      <th>1</th>\n",
       "      <td>276726</td>\n",
       "      <td>0155061224</td>\n",
       "      <td>5</td>\n",
       "    </tr>\n",
       "    <tr>\n",
       "      <th>2</th>\n",
       "      <td>276727</td>\n",
       "      <td>0446520802</td>\n",
       "      <td>0</td>\n",
       "    </tr>\n",
       "    <tr>\n",
       "      <th>3</th>\n",
       "      <td>276729</td>\n",
       "      <td>052165615X</td>\n",
       "      <td>3</td>\n",
       "    </tr>\n",
       "    <tr>\n",
       "      <th>4</th>\n",
       "      <td>276729</td>\n",
       "      <td>0521795028</td>\n",
       "      <td>6</td>\n",
       "    </tr>\n",
       "  </tbody>\n",
       "</table>\n",
       "</div>"
      ],
      "text/plain": [
       "   UserID        ISBN  BookRating\n",
       "0  276725  034545104X           0\n",
       "1  276726  0155061224           5\n",
       "2  276727  0446520802           0\n",
       "3  276729  052165615X           3\n",
       "4  276729  0521795028           6"
      ]
     },
     "execution_count": 41,
     "metadata": {},
     "output_type": "execute_result"
    }
   ],
   "source": [
    "print(Ratings.shape)\n",
    "print(list(Ratings.columns))\n",
    "Ratings.head()"
   ]
  },
  {
   "cell_type": "code",
   "execution_count": 42,
   "metadata": {},
   "outputs": [
    {
     "name": "stdout",
     "output_type": "stream",
     "text": [
      "Unique user entries at Ratings Dataset: 105283 | No of users that exist at Ratings Dataset but not at Users Dataset: 0\n"
     ]
    }
   ],
   "source": [
    "# At Users dataset there are 278858 uniques UserIDs.\n",
    "Unique_Users_Ratings = Ratings.UserID.nunique()\n",
    "print(f'Unique user entries at Ratings Dataset: {Unique_Users_Ratings} | No of users that exist at Ratings Dataset but not at Users Dataset: {np.shape(Ratings)[0] - np.shape(Ratings[Ratings[\"UserID\"].isin(Users[\"UserID\"])])[0]}')"
   ]
  },
  {
   "cell_type": "code",
   "execution_count": 43,
   "metadata": {},
   "outputs": [
    {
     "name": "stdout",
     "output_type": "stream",
     "text": [
      "Unique book entries at Ratings Dataset: 340556 | No of books that exist at Ratings Dataset but not at Books Dataset: 203545\n"
     ]
    }
   ],
   "source": [
    "# At Books dataset there are 271379 unique ISBNs.\n",
    "\n",
    "Unique_Books_Ratings = Ratings.ISBN.nunique()\n",
    "print(f'Unique book entries at Ratings Dataset: {Unique_Books_Ratings} | No of books that exist at Ratings Dataset but not at Books Dataset: {np.shape(Ratings)[0] - np.shape(Ratings[Ratings[\"ISBN\"].isin(Books[\"ISBN\"])])[0]}')"
   ]
  },
  {
   "cell_type": "markdown",
   "metadata": {},
   "source": [
    "We have ratings for 340556 different book titles, which means that users have rated some books, which are not part of the Books dataset.   \n",
    "We don't need those books, since we cannot recommend them.  \n",
    "So, we will filter them out."
   ]
  },
  {
   "cell_type": "code",
   "execution_count": 44,
   "metadata": {},
   "outputs": [],
   "source": [
    "Ratings_New = Ratings[Ratings['ISBN'].isin(Books['ISBN'])]"
   ]
  },
  {
   "cell_type": "markdown",
   "metadata": {},
   "source": [
    "Let's also check the sparsity of the dataset.  \n",
    "Sparsity refers to the fact that many users only rate a small number of items and therefore the number of users that may have rated a particular item may be very small."
   ]
  },
  {
   "cell_type": "code",
   "execution_count": 115,
   "metadata": {},
   "outputs": [
    {
     "name": "stdout",
     "output_type": "stream",
     "text": [
      "Sparsity Level: 99.9995%\n"
     ]
    }
   ],
   "source": [
    "# Sparsity of the dataset can be calculated as below:\n",
    "Sparsity = 1 - len(Ratings_New)/(float(Users.shape[0] * Books.shape[0]))\n",
    "print(f'Sparsity Level: {Sparsity*100:.4f}%')"
   ]
  },
  {
   "cell_type": "code",
   "execution_count": 46,
   "metadata": {},
   "outputs": [
    {
     "data": {
      "image/png": "[encoded data removed]",
      "text/plain": [
       "<Figure size 720x360 with 1 Axes>"
      ]
     },
     "metadata": {
      "needs_background": "light"
     },
     "output_type": "display_data"
    }
   ],
   "source": [
    "# Ratings Distribution\n",
    "plt.figure(figsize=(10, 5))\n",
    "Ratings_New.BookRating.value_counts(sort=False).plot(kind='bar')\n",
    "plt.xlabel('Rating')\n",
    "plt.ylabel('Count')\n",
    "plt.show()"
   ]
  },
  {
   "cell_type": "markdown",
   "metadata": {},
   "source": [
    "We see that the vast majority of ratings are 0.  \n",
    "The ratings of each user are either implicit (0) meaning the result of observed behavior, or explicit (1-10) meaning the user rated the book.  \n",
    "For building our book recommendation system, we will use only explicit ratings, and so 0 rating entry rows will be removed."
   ]
  },
  {
   "cell_type": "code",
   "execution_count": 47,
   "metadata": {},
   "outputs": [],
   "source": [
    "Ratings_New = Ratings_New[Ratings_New.BookRating != 0]"
   ]
  },
  {
   "cell_type": "code",
   "execution_count": 48,
   "metadata": {},
   "outputs": [
    {
     "data": {
      "image/png": "[encoded data removed]",
      "text/plain": [
       "<Figure size 720x360 with 1 Axes>"
      ]
     },
     "metadata": {
      "needs_background": "light"
     },
     "output_type": "display_data"
    }
   ],
   "source": [
    "# Plot the Ratings Distribution again\n",
    "plt.figure(figsize=(10, 5))\n",
    "Ratings_New.BookRating.value_counts(sort=False).plot(kind='bar')\n",
    "plt.xlabel('Rating')\n",
    "plt.ylabel('Count')\n",
    "plt.show()"
   ]
  },
  {
   "cell_type": "code",
   "execution_count": 49,
   "metadata": {},
   "outputs": [
    {
     "name": "stdout",
     "output_type": "stream",
     "text": [
      "1      1351\n",
      "2      2183\n",
      "3      4686\n",
      "4      6983\n",
      "5     41560\n",
      "6     29078\n",
      "7     61110\n",
      "8     84335\n",
      "9     55851\n",
      "10    65240\n",
      "Name: BookRating, dtype: int64\n"
     ]
    }
   ],
   "source": [
    "print(Ratings_New.BookRating.value_counts(sort=False))"
   ]
  },
  {
   "cell_type": "markdown",
   "metadata": {},
   "source": [
    "Now, it is clear that users tend to give high ratings (>=5) and 8 is the most frequent rating."
   ]
  },
  {
   "cell_type": "code",
   "execution_count": 50,
   "metadata": {},
   "outputs": [
    {
     "name": "stdout",
     "output_type": "stream",
     "text": [
      "The 15 users with the most ratings contribution are:\n",
      "UserID\n",
      "11676     6354\n",
      "98391     5234\n",
      "189835    1712\n",
      "153662    1652\n",
      "23902     1082\n",
      "235105     927\n",
      "76499      926\n",
      "171118     904\n",
      "16795      878\n",
      "248718     866\n",
      "56399      772\n",
      "197659     720\n",
      "35859      706\n",
      "185233     618\n",
      "95359      540\n",
      "Name: ISBN, dtype: int64\n"
     ]
    }
   ],
   "source": [
    "# Find the 15 top users that contributed most ratings\n",
    "Top_Users_Ratings = Ratings_New.groupby('UserID').ISBN.count().sort_values(ascending=False)[:15]\n",
    "print(f'The 15 users with the most ratings contribution are:\\n{Top_Users_Ratings}')          "
   ]
  },
  {
   "cell_type": "code",
   "execution_count": 51,
   "metadata": {},
   "outputs": [],
   "source": [
    "Users_No_Ratings = Ratings_New.groupby('UserID').ISBN.count().sort_values(ascending=False)"
   ]
  },
  {
   "cell_type": "code",
   "execution_count": 52,
   "metadata": {},
   "outputs": [
    {
     "data": {
      "image/png": "[encoded data removed]",
      "text/plain": [
       "<Figure size 432x288 with 1 Axes>"
      ]
     },
     "metadata": {
      "needs_background": "light"
     },
     "output_type": "display_data"
    }
   ],
   "source": [
    "# Plot with users that have less than 30 ratings\n",
    "user_hist = Users_No_Ratings.where(Users_No_Ratings<30)\n",
    "user_hist.hist()\n",
    "plt.xlabel('No. of Ratings')\n",
    "plt.ylabel('Count')\n",
    "plt.show()"
   ]
  },
  {
   "cell_type": "code",
   "execution_count": 53,
   "metadata": {},
   "outputs": [
    {
     "data": {
      "image/png": "[encoded data removed]",
      "text/plain": [
       "<Figure size 432x288 with 1 Axes>"
      ]
     },
     "metadata": {
      "needs_background": "light"
     },
     "output_type": "display_data"
    }
   ],
   "source": [
    "# Plot with users that have more than 30 ratings and less than 1000\n",
    "user_hist = Users_No_Ratings.where((Users_No_Ratings > 30) & (Users_No_Ratings < 1000))\n",
    "user_hist.hist()\n",
    "plt.xlabel('No. of Ratings')\n",
    "plt.ylabel('Count')\n",
    "plt.show()"
   ]
  },
  {
   "cell_type": "code",
   "execution_count": 54,
   "metadata": {},
   "outputs": [
    {
     "data": {
      "image/png": "[encoded data removed]",
      "text/plain": [
       "<Figure size 432x288 with 1 Axes>"
      ]
     },
     "metadata": {
      "needs_background": "light"
     },
     "output_type": "display_data"
    }
   ],
   "source": [
    "# Plot with users that have more than 1000 ratings\n",
    "user_hist = Users_No_Ratings.where(Users_No_Ratings > 1000)\n",
    "user_hist.hist()\n",
    "plt.xlabel('No. of Ratings')\n",
    "plt.ylabel('Count')\n",
    "plt.show()"
   ]
  },
  {
   "cell_type": "markdown",
   "metadata": {},
   "source": [
    "We see that the vast majority of users have rated only 1 or 2 books and the users that have more than 1000 ratings are rare."
   ]
  },
  {
   "cell_type": "markdown",
   "metadata": {},
   "source": [
    "#### Merge the Users Books, and Ratings tables"
   ]
  },
  {
   "cell_type": "code",
   "execution_count": 55,
   "metadata": {},
   "outputs": [
    {
     "name": "stdout",
     "output_type": "stream",
     "text": [
      "Books with Ratings table size: 352537 | Books table size: 271361 | Ratings table size: 352377\n"
     ]
    }
   ],
   "source": [
    "# First, we will join the Books and Ratings_New tables.\n",
    "Books_with_Ratings = Ratings_New.join(Books.set_index('ISBN'), on='ISBN')\n",
    "print(f'Books with Ratings table size: {len(Books_with_Ratings)} | Books table size: {len(Books)} | Ratings table size: {len(Ratings_New)}')"
   ]
  },
  {
   "cell_type": "code",
   "execution_count": 56,
   "metadata": {},
   "outputs": [
    {
     "data": {
      "text/html": [
       "<div>\n",
       "<style scoped>\n",
       "    .dataframe tbody tr th:only-of-type {\n",
       "        vertical-align: middle;\n",
       "    }\n",
       "\n",
       "    .dataframe tbody tr th {\n",
       "        vertical-align: top;\n",
       "    }\n",
       "\n",
       "    .dataframe thead th {\n",
       "        text-align: right;\n",
       "    }\n",
       "</style>\n",
       "<table border=\"1\" class=\"dataframe\">\n",
       "  <thead>\n",
       "    <tr style=\"text-align: right;\">\n",
       "      <th></th>\n",
       "      <th>UserID</th>\n",
       "      <th>ISBN</th>\n",
       "      <th>BookRating</th>\n",
       "      <th>BookTitle</th>\n",
       "      <th>BookAuthor</th>\n",
       "      <th>YearofPublication</th>\n",
       "      <th>Publisher</th>\n",
       "    </tr>\n",
       "  </thead>\n",
       "  <tbody>\n",
       "    <tr>\n",
       "      <th>1</th>\n",
       "      <td>276726</td>\n",
       "      <td>0155061224</td>\n",
       "      <td>5</td>\n",
       "      <td>Rites Of Passage</td>\n",
       "      <td>Judith Rae</td>\n",
       "      <td>2001.0</td>\n",
       "      <td>Heinle</td>\n",
       "    </tr>\n",
       "    <tr>\n",
       "      <th>4</th>\n",
       "      <td>276729</td>\n",
       "      <td>0521795028</td>\n",
       "      <td>6</td>\n",
       "      <td>The Amsterdam Connection : Level 4 (cambridge ...</td>\n",
       "      <td>Sue Leather</td>\n",
       "      <td>2001.0</td>\n",
       "      <td>Cambridge University Press</td>\n",
       "    </tr>\n",
       "    <tr>\n",
       "      <th>16</th>\n",
       "      <td>276747</td>\n",
       "      <td>0060517794</td>\n",
       "      <td>9</td>\n",
       "      <td>Little Altars Everywhere</td>\n",
       "      <td>Rebecca Wells</td>\n",
       "      <td>2003.0</td>\n",
       "      <td>Harpertorch</td>\n",
       "    </tr>\n",
       "    <tr>\n",
       "      <th>19</th>\n",
       "      <td>276747</td>\n",
       "      <td>0671537458</td>\n",
       "      <td>9</td>\n",
       "      <td>Waiting To Exhale</td>\n",
       "      <td>Terry Mcmillan</td>\n",
       "      <td>1995.0</td>\n",
       "      <td>Pocket</td>\n",
       "    </tr>\n",
       "    <tr>\n",
       "      <th>20</th>\n",
       "      <td>276747</td>\n",
       "      <td>0679776818</td>\n",
       "      <td>8</td>\n",
       "      <td>Birdsong: A Novel Of Love And War</td>\n",
       "      <td>Sebastian Faulks</td>\n",
       "      <td>1997.0</td>\n",
       "      <td>Vintage Books Usa</td>\n",
       "    </tr>\n",
       "  </tbody>\n",
       "</table>\n",
       "</div>"
      ],
      "text/plain": [
       "    UserID        ISBN  BookRating  \\\n",
       "1   276726  0155061224           5   \n",
       "4   276729  0521795028           6   \n",
       "16  276747  0060517794           9   \n",
       "19  276747  0671537458           9   \n",
       "20  276747  0679776818           8   \n",
       "\n",
       "                                            BookTitle        BookAuthor  \\\n",
       "1                                    Rites Of Passage        Judith Rae   \n",
       "4   The Amsterdam Connection : Level 4 (cambridge ...       Sue Leather   \n",
       "16                           Little Altars Everywhere     Rebecca Wells   \n",
       "19                                  Waiting To Exhale    Terry Mcmillan   \n",
       "20                  Birdsong: A Novel Of Love And War  Sebastian Faulks   \n",
       "\n",
       "    YearofPublication                   Publisher  \n",
       "1              2001.0                      Heinle  \n",
       "4              2001.0  Cambridge University Press  \n",
       "16             2003.0                 Harpertorch  \n",
       "19             1995.0                      Pocket  \n",
       "20             1997.0           Vintage Books Usa  "
      ]
     },
     "execution_count": 56,
     "metadata": {},
     "output_type": "execute_result"
    }
   ],
   "source": [
    "# Let's take a look at the new table.\n",
    "Books_with_Ratings.head()"
   ]
  },
  {
   "cell_type": "code",
   "execution_count": 57,
   "metadata": {},
   "outputs": [
    {
     "name": "stdout",
     "output_type": "stream",
     "text": [
      "<class 'pandas.core.frame.DataFrame'>\n",
      "Int64Index: 352537 entries, 1 to 1149778\n",
      "Data columns (total 7 columns):\n",
      "UserID               352537 non-null int64\n",
      "ISBN                 352537 non-null object\n",
      "BookRating           352537 non-null int64\n",
      "BookTitle            352537 non-null object\n",
      "BookAuthor           352345 non-null object\n",
      "YearofPublication    347187 non-null float64\n",
      "Publisher            352537 non-null object\n",
      "dtypes: float64(1), int64(2), object(4)\n",
      "memory usage: 21.5+ MB\n"
     ]
    }
   ],
   "source": [
    "Books_with_Ratings.info()"
   ]
  },
  {
   "cell_type": "markdown",
   "metadata": {},
   "source": [
    "We see that YearofPublication has some missing values."
   ]
  },
  {
   "cell_type": "code",
   "execution_count": 58,
   "metadata": {},
   "outputs": [
    {
     "name": "stdout",
     "output_type": "stream",
     "text": [
      "The 15 books with the highest cumulative rating values are:\n",
      "BookTitle\n",
      "The Lovely Bones: A Novel                             5787\n",
      "The Da Vinci Code                                     4169\n",
      "The Secret Life Of Bees                               3432\n",
      "The Red Tent (bestselling Backlist)                   3134\n",
      "The Nanny Diaries: A Novel                            2923\n",
      "Harry Potter And The Chamber Of Secrets (book 2)      2882\n",
      "Life Of Pi                                            2619\n",
      "Wild Animus                                           2551\n",
      "Divine Secrets Of The Ya-ya Sisterhood: A Novel       2532\n",
      "Harry Potter And The Prisoner Of Azkaban (book 3)     2505\n",
      "Angels & Demons                                       2485\n",
      "Where The Heart Is (oprah's Book Club (paperback))    2402\n",
      "Girl With A Pearl Earring                             2392\n",
      "To Kill A Mockingbird                                 2361\n",
      "The Notebook                                          2314\n",
      "Name: BookRating, dtype: int64\n"
     ]
    }
   ],
   "source": [
    "# Find the 15 top books with the highest cumulative rating values.\n",
    "Top_Cumulative_Rated_Books = Books_with_Ratings.groupby('BookTitle').BookRating.sum().sort_values(ascending=False)[:15]\n",
    "print(f'The 15 books with the highest cumulative rating values are:\\n{Top_Cumulative_Rated_Books}')  "
   ]
  },
  {
   "cell_type": "code",
   "execution_count": 61,
   "metadata": {},
   "outputs": [
    {
     "name": "stdout",
     "output_type": "stream",
     "text": [
      "The 15 books with the highest average ratings are:\n",
      "BookTitle\n",
      "The Two Towers (the Lord Of The Rings, Part 2)            9.325758\n",
      "The Return Of The King (the Lord Of The Rings, Part 3)    9.243478\n",
      "The Grapes Of Wrath                                       9.129032\n",
      "Harry Potter And The Goblet Of Fire (book 4)              9.125506\n",
      "The Hobbit                                                9.120000\n",
      "The Little Prince                                         9.111111\n",
      "Charlotte's Web (trophy Newbery)                          9.073529\n",
      "Griffin & Sabine: An Extraordinary Correspondence         9.062500\n",
      "Love You Forever                                          9.055556\n",
      "Illusions                                                 9.052632\n",
      "84 Charing Cross Road                                     9.049180\n",
      "Harry Potter And The Prisoner Of Azkaban (book 3)         9.043321\n",
      "The Stand (the Complete And Uncut Edition)                9.025641\n",
      "The Lord Of The Rings (movie Art Cover)                   9.024390\n",
      "Harry Potter And The Sorcerer's Stone (book 1)            9.016260\n",
      "Name: BookRating, dtype: float64\n"
     ]
    }
   ],
   "source": [
    "# Find the 15 top books with the highest average ratings (with > 30 received ratings).\n",
    "Ratings_Received = Books_with_Ratings.BookTitle.value_counts()\n",
    "Mean_Books_Ratings = Books_with_Ratings[Books_with_Ratings.BookTitle.isin(Ratings_Received[Ratings_Received>30].index)].groupby('BookTitle')['BookRating'].mean()\n",
    "Top_Rated_Books = Mean_Books_Ratings.sort_values(ascending=False)[:15] \n",
    "print(f'The 15 books with the highest average ratings are:\\n{Top_Rated_Books}')  "
   ]
  },
  {
   "cell_type": "code",
   "execution_count": 62,
   "metadata": {},
   "outputs": [
    {
     "name": "stdout",
     "output_type": "stream",
     "text": [
      "The 15 books with the lowest average ratings are:\n",
      "BookTitle\n",
      "My Gal Sunday                                                               6.607843\n",
      "Thousand Acres                                                              6.600000\n",
      "Daddy                                                                       6.593750\n",
      "Bleachers                                                                   6.583333\n",
      "Portrait Of A Killer: Jack The Ripper -- Case Closed                        6.574468\n",
      "Songs In Ordinary Time (oprah's Book Club (paperback))                      6.530303\n",
      "One Hundred Years Of Solitude (oprah's Book Club)                           6.516129\n",
      "The Sky Is Falling                                                          6.477273\n",
      "The Little Friend                                                           6.272727\n",
      "Sex & The City                                                              6.184211\n",
      "Portrait Of A Killer: Jack The Ripper-- Case Closed (berkley True Crime)    6.121212\n",
      "Violin                                                                      6.106383\n",
      "4 Blondes                                                                   5.653846\n",
      "Isle Of Dogs                                                                5.400000\n",
      "Wild Animus                                                                 4.390706\n",
      "Name: BookRating, dtype: float64\n"
     ]
    }
   ],
   "source": [
    "# Find the 15 books with the lowest average ratings (with > 30 received ratings).\n",
    "Bottom_Rated_Books = Mean_Books_Ratings.sort_values(ascending=False)[-15:] \n",
    "print(f'The 15 books with the lowest average ratings are:\\n{Bottom_Rated_Books}') "
   ]
  },
  {
   "cell_type": "markdown",
   "metadata": {},
   "source": [
    "We see that the lowest average rating in the dataset is 4.39 and the rest of the books have an average rating higher than 5."
   ]
  },
  {
   "cell_type": "markdown",
   "metadata": {},
   "source": [
    "Now we will create a new field that will take into account books with the same title-author but with different editions."
   ]
  },
  {
   "cell_type": "code",
   "execution_count": 63,
   "metadata": {},
   "outputs": [
    {
     "data": {
      "text/plain": [
       "1     119679\n",
       "2       6521\n",
       "3       1000\n",
       "4        252\n",
       "5         79\n",
       "6         45\n",
       "7         16\n",
       "8         11\n",
       "14         4\n",
       "10         3\n",
       "9          3\n",
       "15         1\n",
       "11         1\n",
       "Name: ISBN, dtype: int64"
      ]
     },
     "execution_count": 63,
     "metadata": {},
     "output_type": "execute_result"
    }
   ],
   "source": [
    "Multiple_ISBNs = Books_with_Ratings.groupby(['BookTitle', 'BookAuthor']).ISBN.nunique() \n",
    "Multiple_ISBNs.value_counts()"
   ]
  },
  {
   "cell_type": "markdown",
   "metadata": {},
   "source": [
    "We see that the vast majority of book titles have only 1 associated ISBN number, but there are some books that are associated with multiple ISBN numbers."
   ]
  },
  {
   "cell_type": "markdown",
   "metadata": {},
   "source": [
    "So, we will create a new field \"Unique_ISBN\", in order to have a single ISBN per book-author pair.  "
   ]
  },
  {
   "cell_type": "code",
   "execution_count": 64,
   "metadata": {},
   "outputs": [],
   "source": [
    "Books_with_multiple_ISBNs = Multiple_ISBNs.where(Multiple_ISBNs > 1)\n",
    "# Remove NaNs, which correspond to books associated with a single ISBN number\n",
    "Books_with_multiple_ISBNs.dropna(inplace=True) \n",
    "\n",
    "Books_with_Ratings2 = Books_with_Ratings.drop_duplicates(['BookTitle', 'BookAuthor'])\n",
    "Books_with_Ratings = pd.merge(Books_with_Ratings, Books_with_Ratings2,  how='left', left_on=['BookTitle','BookAuthor'], right_on = ['BookTitle','BookAuthor'], suffixes=['', '_r'])\n",
    "\n",
    "# Drop the unnecessary columns\n",
    "Books_with_Ratings = Books_with_Ratings.drop(['UserID_r', 'BookRating_r', 'YearofPublication_r', 'Publisher_r'], axis=1)\n",
    "# Rename the new ISBN field\n",
    "Books_with_Ratings = Books_with_Ratings.rename(columns = {'ISBN_r':'Unique_ISBN'})"
   ]
  },
  {
   "cell_type": "markdown",
   "metadata": {},
   "source": [
    "Now, we will join the Books_with_Ratings and Users tables."
   ]
  },
  {
   "cell_type": "code",
   "execution_count": 65,
   "metadata": {},
   "outputs": [
    {
     "name": "stdout",
     "output_type": "stream",
     "text": [
      "Books_Ratings_Users table size: 352537 | Books_with_Ratings table size: 352537 | Users table size: 278858\n"
     ]
    }
   ],
   "source": [
    "Books_Ratings_Users = Books_with_Ratings.join(Users.set_index('UserID'), on='UserID')\n",
    "print(f'Books_Ratings_Users table size: {len(Books_Ratings_Users)} | Books_with_Ratings table size: {len(Books_with_Ratings)} | Users table size: {len(Users)}')"
   ]
  },
  {
   "cell_type": "code",
   "execution_count": 66,
   "metadata": {},
   "outputs": [
    {
     "data": {
      "text/html": [
       "<div>\n",
       "<style scoped>\n",
       "    .dataframe tbody tr th:only-of-type {\n",
       "        vertical-align: middle;\n",
       "    }\n",
       "\n",
       "    .dataframe tbody tr th {\n",
       "        vertical-align: top;\n",
       "    }\n",
       "\n",
       "    .dataframe thead th {\n",
       "        text-align: right;\n",
       "    }\n",
       "</style>\n",
       "<table border=\"1\" class=\"dataframe\">\n",
       "  <thead>\n",
       "    <tr style=\"text-align: right;\">\n",
       "      <th></th>\n",
       "      <th>UserID</th>\n",
       "      <th>ISBN</th>\n",
       "      <th>BookRating</th>\n",
       "      <th>BookTitle</th>\n",
       "      <th>BookAuthor</th>\n",
       "      <th>YearofPublication</th>\n",
       "      <th>Publisher</th>\n",
       "      <th>Unique_ISBN</th>\n",
       "      <th>Age</th>\n",
       "      <th>City</th>\n",
       "      <th>State</th>\n",
       "      <th>Country</th>\n",
       "    </tr>\n",
       "  </thead>\n",
       "  <tbody>\n",
       "    <tr>\n",
       "      <th>0</th>\n",
       "      <td>276726</td>\n",
       "      <td>0155061224</td>\n",
       "      <td>5</td>\n",
       "      <td>Rites Of Passage</td>\n",
       "      <td>Judith Rae</td>\n",
       "      <td>2001.0</td>\n",
       "      <td>Heinle</td>\n",
       "      <td>0155061224</td>\n",
       "      <td>NaN</td>\n",
       "      <td>Seattle</td>\n",
       "      <td>Washington</td>\n",
       "      <td>Usa</td>\n",
       "    </tr>\n",
       "    <tr>\n",
       "      <th>1</th>\n",
       "      <td>276729</td>\n",
       "      <td>0521795028</td>\n",
       "      <td>6</td>\n",
       "      <td>The Amsterdam Connection : Level 4 (cambridge ...</td>\n",
       "      <td>Sue Leather</td>\n",
       "      <td>2001.0</td>\n",
       "      <td>Cambridge University Press</td>\n",
       "      <td>0521795028</td>\n",
       "      <td>16.0</td>\n",
       "      <td>Rijeka</td>\n",
       "      <td>NaN</td>\n",
       "      <td>Croatia</td>\n",
       "    </tr>\n",
       "    <tr>\n",
       "      <th>2</th>\n",
       "      <td>276747</td>\n",
       "      <td>0060517794</td>\n",
       "      <td>9</td>\n",
       "      <td>Little Altars Everywhere</td>\n",
       "      <td>Rebecca Wells</td>\n",
       "      <td>2003.0</td>\n",
       "      <td>Harpertorch</td>\n",
       "      <td>0060517794</td>\n",
       "      <td>25.0</td>\n",
       "      <td>Iowa City</td>\n",
       "      <td>Iowa</td>\n",
       "      <td>Usa</td>\n",
       "    </tr>\n",
       "    <tr>\n",
       "      <th>3</th>\n",
       "      <td>276747</td>\n",
       "      <td>0671537458</td>\n",
       "      <td>9</td>\n",
       "      <td>Waiting To Exhale</td>\n",
       "      <td>Terry Mcmillan</td>\n",
       "      <td>1995.0</td>\n",
       "      <td>Pocket</td>\n",
       "      <td>0671537458</td>\n",
       "      <td>25.0</td>\n",
       "      <td>Iowa City</td>\n",
       "      <td>Iowa</td>\n",
       "      <td>Usa</td>\n",
       "    </tr>\n",
       "    <tr>\n",
       "      <th>4</th>\n",
       "      <td>276747</td>\n",
       "      <td>0679776818</td>\n",
       "      <td>8</td>\n",
       "      <td>Birdsong: A Novel Of Love And War</td>\n",
       "      <td>Sebastian Faulks</td>\n",
       "      <td>1997.0</td>\n",
       "      <td>Vintage Books Usa</td>\n",
       "      <td>0679776818</td>\n",
       "      <td>25.0</td>\n",
       "      <td>Iowa City</td>\n",
       "      <td>Iowa</td>\n",
       "      <td>Usa</td>\n",
       "    </tr>\n",
       "  </tbody>\n",
       "</table>\n",
       "</div>"
      ],
      "text/plain": [
       "   UserID        ISBN  BookRating  \\\n",
       "0  276726  0155061224           5   \n",
       "1  276729  0521795028           6   \n",
       "2  276747  0060517794           9   \n",
       "3  276747  0671537458           9   \n",
       "4  276747  0679776818           8   \n",
       "\n",
       "                                           BookTitle        BookAuthor  \\\n",
       "0                                   Rites Of Passage        Judith Rae   \n",
       "1  The Amsterdam Connection : Level 4 (cambridge ...       Sue Leather   \n",
       "2                           Little Altars Everywhere     Rebecca Wells   \n",
       "3                                  Waiting To Exhale    Terry Mcmillan   \n",
       "4                  Birdsong: A Novel Of Love And War  Sebastian Faulks   \n",
       "\n",
       "   YearofPublication                   Publisher Unique_ISBN   Age       City  \\\n",
       "0             2001.0                      Heinle  0155061224   NaN    Seattle   \n",
       "1             2001.0  Cambridge University Press  0521795028  16.0     Rijeka   \n",
       "2             2003.0                 Harpertorch  0060517794  25.0  Iowa City   \n",
       "3             1995.0                      Pocket  0671537458  25.0  Iowa City   \n",
       "4             1997.0           Vintage Books Usa  0679776818  25.0  Iowa City   \n",
       "\n",
       "        State  Country  \n",
       "0  Washington      Usa  \n",
       "1         NaN  Croatia  \n",
       "2        Iowa      Usa  \n",
       "3        Iowa      Usa  \n",
       "4        Iowa      Usa  "
      ]
     },
     "execution_count": 66,
     "metadata": {},
     "output_type": "execute_result"
    }
   ],
   "source": [
    "# Let's take a look at the new table.\n",
    "Books_Ratings_Users.head()"
   ]
  },
  {
   "cell_type": "code",
   "execution_count": 67,
   "metadata": {},
   "outputs": [
    {
     "name": "stdout",
     "output_type": "stream",
     "text": [
      "<class 'pandas.core.frame.DataFrame'>\n",
      "Int64Index: 352537 entries, 0 to 352536\n",
      "Data columns (total 12 columns):\n",
      "UserID               352537 non-null int64\n",
      "ISBN                 352537 non-null object\n",
      "BookRating           352537 non-null int64\n",
      "BookTitle            352537 non-null object\n",
      "BookAuthor           352345 non-null object\n",
      "YearofPublication    347187 non-null float64\n",
      "Publisher            352537 non-null object\n",
      "Unique_ISBN          352537 non-null object\n",
      "Age                  246348 non-null float64\n",
      "City                 344603 non-null object\n",
      "State                333683 non-null object\n",
      "Country              336522 non-null object\n",
      "dtypes: float64(2), int64(2), object(8)\n",
      "memory usage: 35.0+ MB\n"
     ]
    }
   ],
   "source": [
    "Books_Ratings_Users.info()"
   ]
  },
  {
   "cell_type": "markdown",
   "metadata": {},
   "source": [
    "There are some missing values in some fields, but we will handle them, if needed, later."
   ]
  },
  {
   "cell_type": "markdown",
   "metadata": {},
   "source": [
    "### Building a recommender system using collaborative filtering"
   ]
  },
  {
   "cell_type": "code",
   "execution_count": 68,
   "metadata": {},
   "outputs": [],
   "source": [
    "# Create a new dataframe that contains the UserID, Unique_ISBN and BookRating columns.\n",
    "User_Item_Rating = Books_Ratings_Users[['UserID', 'Unique_ISBN', 'BookRating']]"
   ]
  },
  {
   "cell_type": "code",
   "execution_count": 69,
   "metadata": {},
   "outputs": [],
   "source": [
    "from surprise import Reader, Dataset\n",
    "\n",
    "# First need to create a 'Reader' object to set the scale/limit of the ratings field\n",
    "reader = Reader(rating_scale=(1, 10))\n",
    "\n",
    "# Load the data into a 'Dataset' object. The fields must be in the order: user, item, rating\n",
    "data = Dataset.load_from_df(User_Item_Rating, reader)\n",
    "\n",
    "# Load models and evaluation \n",
    "from surprise import SVD, NMF, CoClustering, model_selection, accuracy\n",
    "\n",
    "# Using test-train split. Set test set to 20%.\n",
    "trainset, testset = model_selection.train_test_split(data, test_size=0.2)"
   ]
  },
  {
   "cell_type": "markdown",
   "metadata": {},
   "source": [
    "Train the algorithms on the training set, and predict ratings for the test set."
   ]
  },
  {
   "cell_type": "code",
   "execution_count": 70,
   "metadata": {},
   "outputs": [
    {
     "name": "stdout",
     "output_type": "stream",
     "text": [
      "SVD - RMSE: 1.639926\n",
      "NMF - RMSE: 2.465916\n",
      "CoClustering - RMSE: 1.863068\n"
     ]
    }
   ],
   "source": [
    "models = []\n",
    "models.append(('SVD', SVD()))\n",
    "models.append(('NNMF', NMF()))\n",
    "models.append(('Co-Clustering', CoClustering()))\n",
    "\n",
    "# Evaluate each model\n",
    "results = []\n",
    "names = []\n",
    "\n",
    "for name, model in models:\n",
    "    model.fit(trainset)\n",
    "    predictions = model.test(testset)\n",
    "    rmse = accuracy.rmse(predictions, verbose = False)\n",
    "    model_summary = \"%s - RMSE: %f\" % (name, rmse)\n",
    "    print(model_summary)\n",
    "    results.append(rmse)\n",
    "    names.append(name)"
   ]
  },
  {
   "cell_type": "markdown",
   "metadata": {},
   "source": [
    "Using cross-validation (5-folds):"
   ]
  },
  {
   "cell_type": "code",
   "execution_count": 71,
   "metadata": {},
   "outputs": [
    {
     "name": "stdout",
     "output_type": "stream",
     "text": [
      "Evaluating RMSE of algorithm SVD on 5 split(s).\n",
      "\n",
      "                  Fold 1  Fold 2  Fold 3  Fold 4  Fold 5  Mean    Std     \n",
      "RMSE (testset)    1.6452  1.6394  1.6346  1.6371  1.6240  1.6361  0.0070  \n",
      "Fit time          25.23   25.30   24.78   25.88   29.27   26.09   1.63    \n",
      "Test time         1.14    0.84    0.76    0.89    0.89    0.91    0.13    \n"
     ]
    },
    {
     "data": {
      "text/plain": [
       "{'test_rmse': array([1.64518328, 1.6394169 , 1.63459827, 1.63713374, 1.62395607]),\n",
       " 'fit_time': (25.229323387145996,\n",
       "  25.299835205078125,\n",
       "  24.776485204696655,\n",
       "  25.88300323486328,\n",
       "  29.26530957221985),\n",
       " 'test_time': (1.1447608470916748,\n",
       "  0.8385598659515381,\n",
       "  0.762509822845459,\n",
       "  0.8925967216491699,\n",
       "  0.8935952186584473)}"
      ]
     },
     "execution_count": 71,
     "metadata": {},
     "output_type": "execute_result"
    }
   ],
   "source": [
    "# Load SVD algorithm\n",
    "model = SVD()\n",
    "\n",
    "# Evaluating RMSE of SVD on 5 folds.\n",
    "model_selection.cross_validate(model, data, measures=['RMSE'], cv=5, verbose=True)"
   ]
  },
  {
   "cell_type": "markdown",
   "metadata": {},
   "source": [
    "The SVD model has an average RMSE of about 1.64 after 5-folds, with a fit time of about 26 sec for each fold."
   ]
  },
  {
   "cell_type": "markdown",
   "metadata": {},
   "source": [
    "Now, we will optimize the SVD algorithm, which has the best performance, with hyperparameter tuning, in order to improve the predictions even further."
   ]
  },
  {
   "cell_type": "code",
   "execution_count": 73,
   "metadata": {},
   "outputs": [
    {
     "name": "stdout",
     "output_type": "stream",
     "text": [
      "Best RMSE Score: 1.630209213336417 | Best parameters based on RMSE: {'n_factors': 70, 'lr_all': 0.005, 'reg_all': 0.05}\n",
      "Best MAE Score: 1.2593737816094015 | Best parameters based on MAE: {'n_factors': 70, 'lr_all': 0.005, 'reg_all': 0.05}\n"
     ]
    }
   ],
   "source": [
    "from surprise.model_selection import GridSearchCV\n",
    " \n",
    "param_grid = {'n_factors': [70, 80, 100, 120], 'lr_all': [0.001, 0.005, 0.01], 'reg_all': [0.01, 0.02, 0.04, 0.05]}\n",
    "\n",
    "# Optimize SVD algorithm for both root mean squared error ('rmse') and mean average error ('mae')\n",
    "gs = GridSearchCV(SVD, param_grid, measures=['rmse', 'mae'], cv=5)\n",
    "    \n",
    "# Fit the gridsearch result on the entire dataset (it takes a significant amount of time)\n",
    "gs.fit(data)\n",
    "\n",
    "print(f'Best RMSE Score: {gs.best_score[\"rmse\"]} | Best parameters based on RMSE: {gs.best_params[\"rmse\"]}')\n",
    "print(f'Best MAE Score: {gs.best_score[\"mae\"]} | Best parameters based on MAE: {gs.best_params[\"mae\"]}')"
   ]
  },
  {
   "cell_type": "code",
   "execution_count": 74,
   "metadata": {},
   "outputs": [],
   "source": [
    "# Return the best version of the SVD algorithm based on RMSE\n",
    "model = gs.best_estimator['rmse']"
   ]
  },
  {
   "cell_type": "code",
   "execution_count": 75,
   "metadata": {},
   "outputs": [
    {
     "data": {
      "text/plain": [
       "1.632798183301331"
      ]
     },
     "execution_count": 75,
     "metadata": {},
     "output_type": "execute_result"
    }
   ],
   "source": [
    "# Use the best hyperparameters for the training\n",
    "model = SVD(n_factors=70, lr_all=0.005, reg_all=0.05)\n",
    "\n",
    "model.fit(trainset)\n",
    "predictions = model.test(testset)\n",
    "\n",
    "# Then compute RMSE\n",
    "accuracy.rmse(predictions, verbose=False)"
   ]
  },
  {
   "cell_type": "markdown",
   "metadata": {},
   "source": [
    "Using cross-validation (5-folds):"
   ]
  },
  {
   "cell_type": "code",
   "execution_count": 76,
   "metadata": {},
   "outputs": [
    {
     "name": "stdout",
     "output_type": "stream",
     "text": [
      "Evaluating RMSE, MAE of algorithm SVD on 5 split(s).\n",
      "\n",
      "                  Fold 1  Fold 2  Fold 3  Fold 4  Fold 5  Mean    Std     \n",
      "RMSE (testset)    1.6339  1.6261  1.6304  1.6324  1.6259  1.6297  0.0032  \n",
      "MAE (testset)     1.2613  1.2605  1.2602  1.2610  1.2544  1.2595  0.0026  \n",
      "Fit time          19.05   19.80   18.88   18.86   19.12   19.14   0.34    \n",
      "Test time         1.08    0.76    1.06    1.06    0.77    0.95    0.15    \n"
     ]
    },
    {
     "data": {
      "text/plain": [
       "{'test_rmse': array([1.63389283, 1.62607751, 1.63044797, 1.632354  , 1.62591049]),\n",
       " 'test_mae': array([1.26133648, 1.26047389, 1.26022557, 1.26096037, 1.25437729]),\n",
       " 'fit_time': (19.049257516860962,\n",
       "  19.80242609977722,\n",
       "  18.881524562835693,\n",
       "  18.859551429748535,\n",
       "  19.115227222442627),\n",
       " 'test_time': (1.0827202796936035,\n",
       "  0.7615070343017578,\n",
       "  1.0587072372436523,\n",
       "  1.0647075176239014,\n",
       "  0.7655096054077148)}"
      ]
     },
     "execution_count": 76,
     "metadata": {},
     "output_type": "execute_result"
    }
   ],
   "source": [
    "model_selection.cross_validate(model, data, measures=['rmse', 'mae'], cv=5, verbose=True)"
   ]
  },
  {
   "cell_type": "markdown",
   "metadata": {},
   "source": [
    "The SVD model has an average RMSE of about 1.63 after 5-folds, with a fit time of about 19 sec for each fold."
   ]
  },
  {
   "cell_type": "markdown",
   "metadata": {},
   "source": [
    "Using the optimized hyperparameters we see a slight improvement in the test RMSE compared with the unoptimized SVD algorithm.\n"
   ]
  },
  {
   "cell_type": "markdown",
   "metadata": {},
   "source": [
    "Let's check some of the recommendations to see how accurate they are.  \n",
    "For this purpose, we will choose a random user/book."
   ]
  },
  {
   "cell_type": "code",
   "execution_count": 116,
   "metadata": {},
   "outputs": [
    {
     "name": "stdout",
     "output_type": "stream",
     "text": [
      "The predicted rating for the book with the Unique_ISBN code 0001046438 from User 100644 is 7.74.\n",
      "The real rating given for this book was 7.00.\n"
     ]
    }
   ],
   "source": [
    "uid = 100644  \n",
    "iid = '0001046438' # Unique_ISBN string\n",
    "\n",
    "pred = model.predict(uid, iid, verbose = False)\n",
    "Actual_Rating = User_Item_Rating[(User_Item_Rating.UserID==pred.uid) & (User_Item_Rating.Unique_ISBN==pred.iid)].BookRating.values[0]\n",
    "\n",
    "print(f'The predicted rating for the book with the Unique_ISBN code {pred.iid} from User {pred.uid} is {pred.est:.2f}.')\n",
    "print(f'The real rating given for this book was {Actual_Rating:.2f}.')"
   ]
  },
  {
   "cell_type": "code",
   "execution_count": 117,
   "metadata": {},
   "outputs": [
    {
     "name": "stdout",
     "output_type": "stream",
     "text": [
      "The predicted rating for the book with the Unique_ISBN code 0002242591 from User 108997 is 7.89.\n",
      "The real rating given for this book was 8.00.\n"
     ]
    }
   ],
   "source": [
    "uid = 108997  \n",
    "iid = '0002242591' # Unique_ISBN string\n",
    "\n",
    "pred = model.predict(uid, iid, verbose = False)\n",
    "Actual_Rating = User_Item_Rating[(User_Item_Rating.UserID==pred.uid) & (User_Item_Rating.Unique_ISBN==pred.iid)].BookRating.values[0]\n",
    "\n",
    "print(f'The predicted rating for the book with the Unique_ISBN code {pred.iid} from User {pred.uid} is {pred.est:.2f}.')\n",
    "print(f'The real rating given for this book was {Actual_Rating:.2f}.')"
   ]
  },
  {
   "cell_type": "markdown",
   "metadata": {},
   "source": [
    "We can also find the top-N recommendations for each user."
   ]
  },
  {
   "cell_type": "code",
   "execution_count": 81,
   "metadata": {},
   "outputs": [],
   "source": [
    "from collections import defaultdict\n",
    "\n",
    "def get_top_n(predictions, n=10):\n",
    "    '''Return the top-N recommendation for each user from a set of predictions.\n",
    "\n",
    "    Args:\n",
    "        predictions(list of Prediction objects): The list of predictions, as\n",
    "            returned by the test method of an algorithm.\n",
    "        n(int): The number of recommendation to output for each user. Default\n",
    "            is 10.\n",
    "\n",
    "    Returns:\n",
    "    A dict where keys are user (raw) ids and values are lists of tuples:\n",
    "        [(raw item id, rating estimation), ...] of size n.\n",
    "    '''\n",
    "\n",
    "    # First map the predictions to each user.\n",
    "    top_n = defaultdict(list)\n",
    "    for uid, iid, true_r, est, _ in predictions:\n",
    "        top_n[uid].append((iid, est))\n",
    "\n",
    "    # Then sort the predictions for each user and retrieve the k highest ones.\n",
    "    for uid, user_ratings in top_n.items():\n",
    "        user_ratings.sort(key=lambda x: x[1], reverse=True)\n",
    "        top_n[uid] = user_ratings[:n]\n",
    "        \n",
    "    return top_n\n",
    "\n",
    "\n",
    "\n",
    "def get_reading_list(userid):\n",
    "    \"\"\"\n",
    "    Retrieve full book titles from 'Books_Ratings_Users' dataframe\n",
    "    \"\"\"\n",
    "    reading_list = defaultdict(list)\n",
    "    top_n = get_top_n(predictions, n=10)\n",
    "    for n in top_n[userid]:\n",
    "        book, rating = n\n",
    "        title = Books_Ratings_Users.loc[Books_Ratings_Users.Unique_ISBN==book].BookTitle.unique()[0]\n",
    "        reading_list[title] = rating\n",
    "    return reading_list\n",
    "\n",
    "\n",
    "\n",
    "# Get the top 10 recommended books for each UserID in the test set.\n",
    "pred = model.test(testset)\n",
    "top_n = get_top_n(pred)"
   ]
  },
  {
   "cell_type": "code",
   "execution_count": 83,
   "metadata": {},
   "outputs": [
    {
     "name": "stdout",
     "output_type": "stream",
     "text": [
      "Lamb : The Gospel According To Biff, Christ's Childhood Pal: 9.289423444326586\n",
      "The Phantom Tollbooth: 9.16135203857356\n",
      "The Neverending Story: 9.069542981987327\n",
      "One For The Money (stephanie Plum Novels (paperback)): 8.863830722439916\n",
      "The New Joy Of Cooking: 8.764036084166435\n",
      "A Soldier Of The Great War: 8.761300899384201\n",
      "Stuart Little: 8.749615889172853\n",
      "All I Know About Animal Behavior I Learned In Loehmann's Dressing Room: 8.728406514534502\n",
      "The Dollmaker: 8.72164738981785\n",
      "Ain't I A Woman!: A Book Of Women's Poetry From Around The World: 8.699623992894178\n"
     ]
    }
   ],
   "source": [
    "# Choose a random user\n",
    "Example_Reading_List = get_reading_list(userid=6251)\n",
    "for book, rating in Example_Reading_List.items():\n",
    "    print(f'{book}: {rating}')"
   ]
  },
  {
   "cell_type": "markdown",
   "metadata": {},
   "source": [
    "The actual ratings given by this user were:  \n",
    "Lamb : The Gospel According To Biff, Christ's Childhood Pal: 10  \n",
    "The Phantom Tollbooth: 10  \n",
    "The Neverending Story: 10\n",
    "One For The Money (stephanie Plum Novels (paperback)): 10  \n",
    "The New Joy Of Cooking: 10  \n",
    "A Soldier Of The Great War: 7  \n",
    "Stuart Little: 10  \n",
    "All I Know About Animal Behavior I Learned In Loehmann's Dressing Room: 9  \n",
    "The Dollmaker: 10  \n",
    "Ain't I A Woman!: A Book Of Women's Poetry From Around The World: 9    "
   ]
  },
  {
   "cell_type": "markdown",
   "metadata": {},
   "source": [
    "We can also create a data frame with all the predictions."
   ]
  },
  {
   "cell_type": "code",
   "execution_count": 84,
   "metadata": {},
   "outputs": [],
   "source": [
    "def get_No_Items_by_User(uid):\n",
    "    \"\"\" Return the number of items rated by a given user\n",
    "    Args: \n",
    "      uid: the id of the user\n",
    "    Returns: \n",
    "      the number of items rated by the user\n",
    "    \"\"\"\n",
    "    try:\n",
    "        return len(trainset.ur[trainset.to_inner_uid(uid)])\n",
    "    except ValueError: # user was not part of the trainset\n",
    "        return 0\n",
    "    \n",
    "def get_No_Users_rated_Item(iid):\n",
    "    \"\"\" Return number of users that have rated a given item\n",
    "    Args:\n",
    "      iid: the id of the item\n",
    "    Returns:\n",
    "      the number of users that have rated the item\n",
    "    \"\"\"\n",
    "    try: \n",
    "        return len(trainset.ir[trainset.to_inner_iid(iid)])\n",
    "    except ValueError:\n",
    "        return 0\n",
    "    \n",
    "df = pd.DataFrame(predictions, columns=['uid', 'iid', 'Actual_Rating', 'Predicted_Rating', 'Details'])\n",
    "df['No_Items_by_User'] = df.uid.apply(get_No_Items_by_User)\n",
    "df['No_Users_rated_Item'] = df.iid.apply(get_No_Users_rated_Item)\n",
    "df['Error'] = abs(df.Predicted_Rating - df.Actual_Rating)"
   ]
  },
  {
   "cell_type": "markdown",
   "metadata": {},
   "source": [
    "So, let's examine the 10 best predictions and the 10 worst predictions."
   ]
  },
  {
   "cell_type": "code",
   "execution_count": 85,
   "metadata": {},
   "outputs": [
    {
     "name": "stdout",
     "output_type": "stream",
     "text": [
      "          uid         iid  Actual_Rating  Predicted_Rating  \\\n",
      "12620  274061  0505523728           10.0              10.0   \n",
      "31499   31826  0380018179           10.0              10.0   \n",
      "8527   156111  1591160650           10.0              10.0   \n",
      "30254  153662  0439136369           10.0              10.0   \n",
      "3784   182086  0373153260           10.0              10.0   \n",
      "33362  274061  0689711522           10.0              10.0   \n",
      "56282  182086  0373291418           10.0              10.0   \n",
      "41755   44252  0451524934           10.0              10.0   \n",
      "33497  141902  0842329218           10.0              10.0   \n",
      "24048  254206  0395177111           10.0              10.0   \n",
      "\n",
      "                         Details  No_Items_by_User  No_Users_rated_Item  Error  \n",
      "12620  {'was_impossible': False}               154                   11    0.0  \n",
      "31499  {'was_impossible': False}               299                   64    0.0  \n",
      "8527   {'was_impossible': False}                62                    7    0.0  \n",
      "30254  {'was_impossible': False}              1318                  230    0.0  \n",
      "3784   {'was_impossible': False}               119                    5    0.0  \n",
      "33362  {'was_impossible': False}               154                   10    0.0  \n",
      "56282  {'was_impossible': False}               119                    2    0.0  \n",
      "41755  {'was_impossible': False}                41                   90    0.0  \n",
      "33497  {'was_impossible': False}                81                   62    0.0  \n",
      "24048  {'was_impossible': False}               180                   13    0.0  \n"
     ]
    }
   ],
   "source": [
    "# Best Predictions\n",
    "Best_Predictions = df.sort_values(by='Error')[:10]\n",
    "print(Best_Predictions)"
   ]
  },
  {
   "cell_type": "code",
   "execution_count": 86,
   "metadata": {},
   "outputs": [
    {
     "name": "stdout",
     "output_type": "stream",
     "text": [
      "          uid         iid  Actual_Rating  Predicted_Rating  \\\n",
      "58747   76499  0816628017            1.0          8.781223   \n",
      "32369   76499  0674298748            1.0          8.781223   \n",
      "12238   76499  0156701537            1.0          8.781223   \n",
      "41829   76499  0324041594            1.0          8.781223   \n",
      "57752   51883  0373224672            1.0          8.868199   \n",
      "48680  208907  0890811156            1.0          9.315119   \n",
      "39221  208907  0130563927            1.0          9.315119   \n",
      "13881  157811  0060392452            1.0          9.564465   \n",
      "55757  138883  0671000853            1.0          9.570263   \n",
      "32586   76499  0684804484            1.0          9.650115   \n",
      "\n",
      "                         Details  No_Items_by_User  No_Users_rated_Item  \\\n",
      "58747  {'was_impossible': False}               748                    0   \n",
      "32369  {'was_impossible': False}               748                    0   \n",
      "12238  {'was_impossible': False}               748                    0   \n",
      "41829  {'was_impossible': False}               748                    0   \n",
      "57752  {'was_impossible': False}               228                    0   \n",
      "48680  {'was_impossible': False}                18                    0   \n",
      "39221  {'was_impossible': False}                18                    0   \n",
      "13881  {'was_impossible': False}                68                  128   \n",
      "55757  {'was_impossible': False}                49                   26   \n",
      "32586  {'was_impossible': False}               748                    3   \n",
      "\n",
      "          Error  \n",
      "58747  7.781223  \n",
      "32369  7.781223  \n",
      "12238  7.781223  \n",
      "41829  7.781223  \n",
      "57752  7.868199  \n",
      "48680  8.315119  \n",
      "39221  8.315119  \n",
      "13881  8.564465  \n",
      "55757  8.570263  \n",
      "32586  8.650115  \n"
     ]
    }
   ],
   "source": [
    "# Worst Predictions\n",
    "Worst_Predictions = df.sort_values(by='Error')[-10:] \n",
    "print(Worst_Predictions)"
   ]
  },
  {
   "cell_type": "markdown",
   "metadata": {},
   "source": [
    "Let’s look in more detail the worst prediction for the book with ISBN \"0684804484\". \n",
    "The book was rated by 3 users, user \"76499\" rated 1 and SVD algorithm predicts this user would rate 9.650115."
   ]
  },
  {
   "cell_type": "code",
   "execution_count": 95,
   "metadata": {},
   "outputs": [
    {
     "data": {
      "image/png": "[encoded data removed]",
      "text/plain": [
       "<Figure size 432x288 with 1 Axes>"
      ]
     },
     "metadata": {
      "needs_background": "light"
     },
     "output_type": "display_data"
    }
   ],
   "source": [
    "Books_Ratings_Users.loc[(Books_Ratings_Users['Unique_ISBN'] == '0684804484') & (Books_Ratings_Users['UserID']!= 76499)]['BookRating'].hist()\n",
    "plt.xlabel('Rating')\n",
    "plt.ylabel('Number of ratings')\n",
    "plt.title('Number of ratings book ISBN 0684804484 has received')\n",
    "plt.show()"
   ]
  },
  {
   "cell_type": "code",
   "execution_count": 103,
   "metadata": {},
   "outputs": [
    {
     "data": {
      "image/png": "[encoded data removed]",
      "text/plain": [
       "<Figure size 432x288 with 1 Axes>"
      ]
     },
     "metadata": {
      "needs_background": "light"
     },
     "output_type": "display_data"
    }
   ],
   "source": [
    "Books_Ratings_Users.loc[Books_Ratings_Users['UserID']== 76499]['BookRating'].hist()\n",
    "plt.xlabel('Rating')\n",
    "plt.ylabel('Number of ratings')\n",
    "plt.title('Ratings provided by user 76499')\n",
    "plt.show()"
   ]
  },
  {
   "cell_type": "markdown",
   "metadata": {},
   "source": [
    "It turns out that other users provided much higher ratings than user 76499. Also, the average rating of this user is 8.96 with only very few ratings below 5.  \n",
    "  \n",
    "Let’s also check the book \"0671000853\". The book was rated by 26 users, user \"138883\" rated 1 and SVD algorithm predicts this user would rate 9.570263."
   ]
  },
  {
   "cell_type": "code",
   "execution_count": 97,
   "metadata": {},
   "outputs": [
    {
     "data": {
      "image/png": "[encoded data removed]",
      "text/plain": [
       "<Figure size 432x288 with 1 Axes>"
      ]
     },
     "metadata": {
      "needs_background": "light"
     },
     "output_type": "display_data"
    }
   ],
   "source": [
    "Books_Ratings_Users.loc[(Books_Ratings_Users['Unique_ISBN'] == '0671000853') & (Books_Ratings_Users['UserID']!= 138883)]['BookRating'].hist()\n",
    "plt.xlabel('Rating')\n",
    "plt.ylabel('Number of ratings')\n",
    "plt.title('Number of ratings book ISBN 0671000853 has received')\n",
    "plt.show()"
   ]
  },
  {
   "cell_type": "code",
   "execution_count": 104,
   "metadata": {},
   "outputs": [
    {
     "data": {
      "image/png": "[encoded data removed]",
      "text/plain": [
       "<Figure size 432x288 with 1 Axes>"
      ]
     },
     "metadata": {
      "needs_background": "light"
     },
     "output_type": "display_data"
    }
   ],
   "source": [
    "Books_Ratings_Users.loc[Books_Ratings_Users['UserID']== 138883]['BookRating'].hist()\n",
    "plt.xlabel('Rating')\n",
    "plt.ylabel('Number of ratings')\n",
    "plt.title('Ratings provided by user 138883')\n",
    "plt.show()"
   ]
  },
  {
   "cell_type": "markdown",
   "metadata": {},
   "source": [
    "We see that all other users rated this book with much higher values. Also, the average rating of this user is 9.33 with only 2 ratings below 5.  \n",
    "  \n",
    "Let’s also check the book \"0060392452\". The book was rated by 128 users, user \"157811\" rated 1 and SVD algorithm predicts this user would rate 9.564465."
   ]
  },
  {
   "cell_type": "code",
   "execution_count": 98,
   "metadata": {},
   "outputs": [
    {
     "data": {
      "image/png": "[encoded data removed]",
      "text/plain": [
       "<Figure size 432x288 with 1 Axes>"
      ]
     },
     "metadata": {
      "needs_background": "light"
     },
     "output_type": "display_data"
    }
   ],
   "source": [
    "Books_Ratings_Users.loc[(Books_Ratings_Users['Unique_ISBN'] == '0060392452') & (Books_Ratings_Users['UserID']!= 157811)]['BookRating'].hist()\n",
    "plt.xlabel('Rating')\n",
    "plt.ylabel('Number of ratings')\n",
    "plt.title('Number of ratings book ISBN 0060392452 has received')\n",
    "plt.show()            "
   ]
  },
  {
   "cell_type": "code",
   "execution_count": 107,
   "metadata": {},
   "outputs": [
    {
     "data": {
      "image/png": "[encoded data removed]",
      "text/plain": [
       "<Figure size 432x288 with 1 Axes>"
      ]
     },
     "metadata": {
      "needs_background": "light"
     },
     "output_type": "display_data"
    }
   ],
   "source": [
    "Books_Ratings_Users.loc[Books_Ratings_Users['UserID']== 157811]['BookRating'].hist()\n",
    "plt.xlabel('Rating')\n",
    "plt.ylabel('Number of ratings')\n",
    "plt.title('Ratings provided by user 157811')\n",
    "plt.show()"
   ]
  },
  {
   "cell_type": "markdown",
   "metadata": {},
   "source": [
    "It turns out that most of the users in the data rated this book with high values, and only very few users gave ratings below 5. Also, the average rating of this user is 9.06 with very few ratings below 5."
   ]
  }
 ],
 "metadata": {
  "kernelspec": {
   "display_name": "Python 3",
   "language": "python",
   "name": "python3"
  },
  "language_info": {
   "codemirror_mode": {
    "name": "ipython",
    "version": 3
   },
   "file_extension": ".py",
   "mimetype": "text/x-python",
   "name": "python",
   "nbconvert_exporter": "python",
   "pygments_lexer": "ipython3",
   "version": "3.6.8"
  }
 },
 "nbformat": 4,
 "nbformat_minor": 2
}
